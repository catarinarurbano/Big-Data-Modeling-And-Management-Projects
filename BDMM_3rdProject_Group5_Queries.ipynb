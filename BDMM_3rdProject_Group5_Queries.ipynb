{
 "cells": [
  {
   "cell_type": "markdown",
   "metadata": {},
   "source": [
    "# BDMM HW3 Queries - Group 5"
   ]
  },
  {
   "cell_type": "markdown",
   "metadata": {},
   "source": [
    "#### Made by:\n",
    "* Catarina Candeias (m20200656@novaims.unl.pt)\n",
    "* Catarina Urbano (m20200607@novaims.unl.pt)\n",
    "* Margarida Pereira (m20201038@novaims.unl.pt) \n",
    "* Rita Ferreira (m20200661@novaims.unl.pt)\n",
    "* Tiago Gonçalves (m20201053@novaims.unl.pt)\n"
   ]
  },
  {
   "cell_type": "code",
   "execution_count": 1,
   "metadata": {},
   "outputs": [],
   "source": [
    "from pymongo import MongoClient\n",
    "import sys, urllib.request, json, pymongo\n",
    "from bson import json_util"
   ]
  },
  {
   "cell_type": "code",
   "execution_count": 2,
   "metadata": {},
   "outputs": [],
   "source": [
    "host=\"rhea.isegi.unl.pt\"\n",
    "port=\"27022\"\n",
    "user=\"GROUP_05\"\n",
    "password=\"if8G1FFeOQICvBc4wz4ZYgft2wlxSnBR\"\n",
    "protocol=\"mongodb\"\n",
    "client = MongoClient(f\"{protocol}://{user}:{password}@{host}:{port}\")\n",
    "db = client['WWI']"
   ]
  },
  {
   "cell_type": "markdown",
   "metadata": {},
   "source": [
    "# 1. Web Team"
   ]
  },
  {
   "cell_type": "markdown",
   "metadata": {},
   "source": [
    "#### - From which state province are our suppliers from?  "
   ]
  },
  {
   "cell_type": "code",
   "execution_count": 47,
   "metadata": {},
   "outputs": [],
   "source": [
    "query_1 = {\n",
    "        \"$lookup\":{\n",
    "           \"from\": \"Collection_Q1_Embedded_City_StateProvince_Country\", # using the previously created embedding\n",
    "           \"localField\": \"DeliveryCityID\", \n",
    "           \"foreignField\": \"CityID\",\n",
    "           \"as\": \"DeliveryCity\"\n",
    "        }\n",
    "    }\n",
    "\n",
    "query_2 = {\n",
    "    \n",
    "    \"$group\":{\"_id\":\"$DeliveryCity.StateProvince.StateProvinceName\",\n",
    "              \n",
    "              \"count\":{                \n",
    "                  \"$sum\":1 #grouping by StateProvinceName and counting number of suppliers\n",
    "              }\n",
    "              \n",
    "    }\n",
    "    \n",
    "}\n",
    "\n",
    "query_3 = { \"$sort\":{\"count\":-1}}\n",
    "\n",
    "pipeline=[query_1,query_2, query_3]"
   ]
  },
  {
   "cell_type": "code",
   "execution_count": 48,
   "metadata": {},
   "outputs": [
    {
     "data": {
      "text/plain": [
       "[{'_id': [['California']], 'count': 3},\n",
       " {'_id': [['Tennessee']], 'count': 2},\n",
       " {'_id': [['Missouri']], 'count': 1},\n",
       " {'_id': [['South Dakota']], 'count': 1},\n",
       " {'_id': [['New Jersey']], 'count': 1},\n",
       " {'_id': [['Indiana']], 'count': 1},\n",
       " {'_id': [['Kentucky']], 'count': 1},\n",
       " {'_id': [['Washington']], 'count': 1},\n",
       " {'_id': [['North Carolina']], 'count': 1},\n",
       " {'_id': [['Minnesota']], 'count': 1}]"
      ]
     },
     "execution_count": 48,
     "metadata": {},
     "output_type": "execute_result"
    }
   ],
   "source": [
    "list(db.Purchasing_Suppliers.aggregate(pipeline))"
   ]
  },
  {
   "cell_type": "markdown",
   "metadata": {},
   "source": [
    "#### - From which state province are the customers who have a higher credit limit?  "
   ]
  },
  {
   "cell_type": "code",
   "execution_count": 123,
   "metadata": {},
   "outputs": [],
   "source": [
    "query_1 = {\n",
    "        \"$lookup\":{\n",
    "           \"from\": \"Collection_Q1_Embedded_City_StateProvince_Country\", # Same as before, joining with the previously created embedding\n",
    "           \"localField\": \"DeliveryCityID\",\n",
    "           \"foreignField\": \"CityID\",\n",
    "           \"as\": \"DeliveryCity\"\n",
    "        }\n",
    "    }\n",
    "\n",
    "query_2 = {\n",
    "    \n",
    "    \"$group\":{\"_id\":\"$DeliveryCity.StateProvince.StateProvinceName\", #grouping by stateprovincename\n",
    "              \n",
    "              \"AverageCreditLimit\":{                \n",
    "                  \"$avg\":\"$CreditLimit\" # averaging the credit limit for each stateprovincename\n",
    "              }\n",
    "              \n",
    "    }\n",
    "    \n",
    "}\n",
    "\n",
    "query_3 = { \"$sort\":{\"AverageCreditLimit\":-1}} # sorting to get the states with highest credit limit averages\n",
    "\n",
    "limit = {'$limit':1}\n",
    "\n",
    "pipeline=[query_1,query_2, query_3, limit]"
   ]
  },
  {
   "cell_type": "code",
   "execution_count": 124,
   "metadata": {},
   "outputs": [
    {
     "data": {
      "text/plain": [
       "[{'_id': [['Nevada']], 'AverageCreditLimit': 3600.0}]"
      ]
     },
     "execution_count": 124,
     "metadata": {},
     "output_type": "execute_result"
    }
   ],
   "source": [
    "list(db.Sales_Customers.aggregate(pipeline))"
   ]
  },
  {
   "cell_type": "markdown",
   "metadata": {},
   "source": [
    "# 2. Warehouse Group"
   ]
  },
  {
   "cell_type": "markdown",
   "metadata": {},
   "source": [
    "#### - To know which items get ordered together the most?   "
   ]
  },
  {
   "cell_type": "code",
   "execution_count": 41,
   "metadata": {},
   "outputs": [],
   "source": [
    "query_1 = {\n",
    "        \"$lookup\":{\n",
    "           \"from\": \"Sales_OrderLines\", #joining the collection with itself\n",
    "           \"localField\": \"OrderID\",\n",
    "           \"foreignField\": \"OrderID\",\n",
    "           \"as\": \"OrderLine2\"\n",
    "        }\n",
    "    }\n",
    "\n",
    "query_2={\"$unwind\":\"$OrderLine2\"} # unwinding\n",
    "\n",
    "query_3 = {\n",
    "    \"$addFields\": {\n",
    "        \"OrderLine2Description\": \"$OrderLine2.Description\", # getting the orderline2Description and #OrderLine2ID\n",
    "        \"OrderLine2ID\": \"$OrderLine2.OrderLineID\"           # on the root of the document\n",
    "    }\n",
    "    \n",
    "\n",
    "}\n",
    "\n",
    "\n",
    "\n",
    "query_4 = { \"$addFields\":{\n",
    "        \"2DescriptionsEqual\":{ \"$strcasecmp\": [ \"$Description\", \"$OrderLine2Description\" ] } # checking if the descriptions are equal\n",
    "    }\n",
    "}\n",
    "\n",
    "query_5 = {\"$match\":{\n",
    "    \n",
    "    \"2DescriptionsEqual\":{\"$ne\":0} #filtering out collections with OrderLine1_Item = OrderLine2_Item\n",
    "                                   # so they don't get counted\n",
    "      \n",
    "}}\n",
    "\n",
    "\n",
    "\n",
    "query_6 = {\n",
    "    \n",
    "    \"$group\":{\"_id\":{\"Item1\":\"$Description\",\"Item2\":\"$OrderLine2Description\"}, # Grouping by pairs of items\n",
    "              \n",
    "              \"OrdersTogether\":{                \n",
    "                  \"$sum\":1 # counting the number of orders where they are together\n",
    "              }\n",
    "              \n",
    "    }\n",
    "    \n",
    "}\n",
    "\n",
    "query_7 = {\"$sort\":{\"OrdersTogether\":-1}} # sorting in descending order\n",
    "\n",
    "limit = {\"$limit\":10} # top 10\n",
    "\n",
    "pipeline=[query_1, query_2, query_3, query_4, query_5, query_6,  query_7, limit]"
   ]
  },
  {
   "cell_type": "code",
   "execution_count": 42,
   "metadata": {},
   "outputs": [
    {
     "data": {
      "text/plain": [
       "[{'_id': {'Item1': 'DBA joke mug - I will get you in order (White)',\n",
       "   'Item2': 'Animal with big feet slippers (Brown) M'},\n",
       "  'OrdersTogether': 15},\n",
       " {'_id': {'Item1': 'Animal with big feet slippers (Brown) M',\n",
       "   'Item2': 'DBA joke mug - I will get you in order (White)'},\n",
       "  'OrdersTogether': 15},\n",
       " {'_id': {'Item1': 'DBA joke mug - two types of DBAs (Black)',\n",
       "   'Item2': 'Black and orange handle with care despatch tape  48mmx75m'},\n",
       "  'OrdersTogether': 14},\n",
       " {'_id': {'Item1': 'Black and orange handle with care despatch tape  48mmx75m',\n",
       "   'Item2': 'DBA joke mug - two types of DBAs (Black)'},\n",
       "  'OrdersTogether': 14},\n",
       " {'_id': {'Item1': 'Ride on toy sedan car (Pink) 1/12 scale',\n",
       "   'Item2': 'Clear packaging tape 48mmx75m'},\n",
       "  'OrdersTogether': 13},\n",
       " {'_id': {'Item1': '\"The Gu\" red shirt XML tag t-shirt (Black) S',\n",
       "   'Item2': 'Plush shark slippers (Gray) S'},\n",
       "  'OrdersTogether': 13},\n",
       " {'_id': {'Item1': 'Packing knife with metal insert blade (Yellow) 9mm',\n",
       "   'Item2': 'Small 9mm replacement blades 9mm'},\n",
       "  'OrdersTogether': 13},\n",
       " {'_id': {'Item1': 'DBA joke mug - you might be a DBA if (White)',\n",
       "   'Item2': 'IT joke mug - keyboard not found … press F1 to continue (White)'},\n",
       "  'OrdersTogether': 13},\n",
       " {'_id': {'Item1': 'Furry animal socks (Pink) M',\n",
       "   'Item2': 'Alien officer hoodie (Black) XL'},\n",
       "  'OrdersTogether': 13},\n",
       " {'_id': {'Item1': 'Superhero action jacket (Blue) M',\n",
       "   'Item2': '\"The Gu\" red shirt XML tag t-shirt (Black) 7XL'},\n",
       "  'OrdersTogether': 13}]"
      ]
     },
     "execution_count": 42,
     "metadata": {},
     "output_type": "execute_result"
    }
   ],
   "source": [
    "list(db.Sales_OrderLines.aggregate(pipeline))"
   ]
  },
  {
   "cell_type": "markdown",
   "metadata": {},
   "source": [
    "#### - Which items get ordered the most in bulk (bigger amounts)?  \n"
   ]
  },
  {
   "cell_type": "code",
   "execution_count": 38,
   "metadata": {},
   "outputs": [],
   "source": [
    "query_1={\"$unwind\":\"$StockItem\"} # unwinding in order to be able to use addfields next\n",
    "\n",
    "query_2 = {\n",
    "    \"$addFields\": {\n",
    "        \"StockItemName\": \"$StockItem.StockItemName\" # moving StockItemName to the root of the document\n",
    "    }\n",
    "}    \n",
    "    \n",
    "query_3 = {\n",
    "    \n",
    "    \"$group\":{\"_id\":\"$StockItemName\", # grouping by StockItemName\n",
    "              \n",
    "              \"NumberOrders\":{                \n",
    "                  \"$sum\":1 # counting the number of orders\n",
    "              },\n",
    "              \"AverageQuantity\":{\n",
    "                  \"$avg\":\"$Quantity\"  #getting the average quantity             \n",
    "              }            \n",
    "    }   \n",
    "}\n",
    "\n",
    "query_4 = {\"$sort\":{\"NumberOrders\":-1, \"AverageQuantity\":-1}} # sorting first by nr_orders (in bulk), and then by avg_qt (bigger amounts)\n",
    "    \n",
    "limit = {\"$limit\":5} # top 5\n",
    "    \n",
    "pipeline = [query_1, query_2, query_3, query_4,limit]"
   ]
  },
  {
   "cell_type": "code",
   "execution_count": 39,
   "metadata": {
    "scrolled": true
   },
   "outputs": [
    {
     "data": {
      "text/plain": [
       "[{'_id': '\"The Gu\" red shirt XML tag t-shirt (White) XXL',\n",
       "  'NumberOrders': 394,\n",
       "  'AverageQuantity': 67.73604060913705},\n",
       " {'_id': 'Developer joke mug - this code was generated by a tool (White)',\n",
       "  'NumberOrders': 392,\n",
       "  'AverageQuantity': 5.540816326530612},\n",
       " {'_id': '\"The Gu\" red shirt XML tag t-shirt (White) S',\n",
       "  'NumberOrders': 387,\n",
       "  'AverageQuantity': 69.64341085271317},\n",
       " {'_id': 'Large  replacement blades 18mm',\n",
       "  'NumberOrders': 386,\n",
       "  'AverageQuantity': 56.63212435233161},\n",
       " {'_id': 'IT joke mug - hardware: part of the computer that can be kicked (Black)',\n",
       "  'NumberOrders': 386,\n",
       "  'AverageQuantity': 5.533678756476684}]"
      ]
     },
     "execution_count": 39,
     "metadata": {},
     "output_type": "execute_result"
    }
   ],
   "source": [
    "list(db.Collection_Q2_Q3_Embedded_OrderLines_Order_StockItems.aggregate(pipeline))"
   ]
  },
  {
   "cell_type": "markdown",
   "metadata": {},
   "source": [
    "#### Which customers have delivery addresses under 10km of distance to the customer with customerID 961?"
   ]
  },
  {
   "cell_type": "code",
   "execution_count": 106,
   "metadata": {},
   "outputs": [],
   "source": [
    "from pymongo import GEO2D"
   ]
  },
  {
   "cell_type": "code",
   "execution_count": 111,
   "metadata": {},
   "outputs": [],
   "source": [
    "# getting the coordinates of client961\n",
    "coords_client961 = list(db.Sales_Customers.find({'CustomerID':961},{'coords':1}))[0]['coords']"
   ]
  },
  {
   "cell_type": "code",
   "execution_count": 121,
   "metadata": {},
   "outputs": [
    {
     "data": {
      "text/plain": [
       "[{'CustomerName': 'Tailspin Toys (South Laguna, CA)',\n",
       "  'PostalAddressLine2': 'Aluriville',\n",
       "  'coords': [33.5006, -117.743]},\n",
       " {'CustomerName': 'Eliza Persson',\n",
       "  'PostalAddressLine2': 'Kommineniville',\n",
       "  'coords': [33.1803, -117.109]},\n",
       " {'CustomerName': 'Tailspin Toys (El Centro, CA)',\n",
       "  'PostalAddressLine2': 'Lohmusville',\n",
       "  'coords': [32.792, -115.563]},\n",
       " {'CustomerName': 'Edgar Jogi',\n",
       "  'PostalAddressLine2': 'Shasthriville',\n",
       "  'coords': [33.3509, -115.73]},\n",
       " {'CustomerName': 'Tailspin Toys (Fieldbrook, CA)',\n",
       "  'PostalAddressLine2': 'Laville',\n",
       "  'coords': [40.9657, -124.036]},\n",
       " {'CustomerName': 'Wingtip Toys (Orick, CA)',\n",
       "  'PostalAddressLine2': 'Deville',\n",
       "  'coords': [41.2868, -124.06]},\n",
       " {'CustomerName': 'Lakshmi Benipal',\n",
       "  'PostalAddressLine2': 'Aguilarville',\n",
       "  'coords': [34.6391, -120.458]},\n",
       " {'CustomerName': 'Wingtip Toys (Port Hueneme, CA)',\n",
       "  'PostalAddressLine2': 'Contiville',\n",
       "  'coords': [34.1478, -119.195]},\n",
       " {'CustomerName': 'Wingtip Toys (Taft Heights, CA)',\n",
       "  'PostalAddressLine2': 'Aguilarville',\n",
       "  'coords': [35.1347, -119.473]},\n",
       " {'CustomerName': 'Tailspin Toys (Lake Hughes, CA)',\n",
       "  'PostalAddressLine2': 'Gunesville',\n",
       "  'coords': [34.6769, -118.445]},\n",
       " {'CustomerName': 'Tailspin Toys (Stallion Springs, CA)',\n",
       "  'PostalAddressLine2': 'Blijlevenville',\n",
       "  'coords': [35.0889, -118.643]},\n",
       " {'CustomerName': 'Tailspin Toys (Idria, CA)',\n",
       "  'PostalAddressLine2': 'Nairville',\n",
       "  'coords': [36.4169, -120.674]},\n",
       " {'CustomerName': 'Tailspin Toys (Avenal, CA)',\n",
       "  'PostalAddressLine2': 'Mitraville',\n",
       "  'coords': [36.0041, -120.129]},\n",
       " {'CustomerName': 'Ajitaab Pakalapati',\n",
       "  'PostalAddressLine2': 'Tonville',\n",
       "  'coords': [36.5427, -119.833]},\n",
       " {'CustomerName': 'Wingtip Toys (Marin City, CA)',\n",
       "  'PostalAddressLine2': 'Rehakville',\n",
       "  'coords': [37.8685, -122.509]},\n",
       " {'CustomerName': 'Wingtip Toys (Ridgemark, CA)',\n",
       "  'PostalAddressLine2': 'Debville',\n",
       "  'coords': [36.8125, -121.366]},\n",
       " {'CustomerName': 'Hee-Young Suh',\n",
       "  'PostalAddressLine2': 'Linnaville',\n",
       "  'coords': [38.0616, -122.699]},\n",
       " {'CustomerName': 'Wingtip Toys (Knights Landing, CA)',\n",
       "  'PostalAddressLine2': 'Holyville',\n",
       "  'coords': [38.7996, -121.718]},\n",
       " {'CustomerName': 'Jackson Kolios',\n",
       "  'PostalAddressLine2': 'Lyville',\n",
       "  'coords': [38.3432, -120.512]},\n",
       " {'CustomerName': 'Tailspin Toys (Mount Montgomery, NV)',\n",
       "  'PostalAddressLine2': 'Cauneville',\n",
       "  'coords': [37.9797, -118.322]},\n",
       " {'CustomerName': 'Kristi Part',\n",
       "  'PostalAddressLine2': 'Tuntayakulville',\n",
       "  'coords': [38.9858, -119.163]},\n",
       " {'CustomerName': 'Tailspin Toys (Glen Avon, CA)',\n",
       "  'PostalAddressLine2': 'PrabhupÄ\\x81daville',\n",
       "  'coords': [34.0117, -117.485]},\n",
       " {'CustomerName': 'Tailspin Toys (Lytle Creek, CA)',\n",
       "  'PostalAddressLine2': 'Gomesville',\n",
       "  'coords': [34.2592, -117.5]},\n",
       " {'CustomerName': 'Wingtip Toys (San Jacinto, CA)',\n",
       "  'PostalAddressLine2': 'Bhuiyanville',\n",
       "  'coords': [33.7839, -116.959]},\n",
       " {'CustomerName': 'Rani Ganguly',\n",
       "  'PostalAddressLine2': 'Benjareeville',\n",
       "  'coords': [34.23, -117.263]},\n",
       " {'CustomerName': 'Malorie Bousquet',\n",
       "  'PostalAddressLine2': 'Biteville',\n",
       "  'coords': [34.235, -117.308]},\n",
       " {'CustomerName': 'Dominic Davignon',\n",
       "  'PostalAddressLine2': 'Glissenville',\n",
       "  'coords': [34.2389, -117.234]},\n",
       " {'CustomerName': 'Anca Gogean',\n",
       "  'PostalAddressLine2': 'Caraballoville',\n",
       "  'coords': [34.2108, -117.083]},\n",
       " {'CustomerName': 'Bimla PrabhupÄ\\x81da',\n",
       "  'PostalAddressLine2': 'Madhunapantulaville',\n",
       "  'coords': [34.905, -116.82]},\n",
       " {'CustomerName': 'Wingtip Toys (Willow Valley, AZ)',\n",
       "  'PostalAddressLine2': 'Mudaliyarville',\n",
       "  'coords': [34.9119, -114.607]},\n",
       " {'CustomerName': 'Tailspin Toys (Peeples Valley, AZ)',\n",
       "  'PostalAddressLine2': 'Lucescuville',\n",
       "  'coords': [34.2689, -112.727]},\n",
       " {'CustomerName': 'Yves Belisle',\n",
       "  'PostalAddressLine2': 'Hopkinsville',\n",
       "  'coords': [35.3444, -113.884]},\n",
       " {'CustomerName': 'Tailspin Toys (Antares, AZ)',\n",
       "  'PostalAddressLine2': 'Erikssonville',\n",
       "  'coords': [35.4197, -113.809]},\n",
       " {'CustomerName': 'Tailspin Toys (Panaca, NV)',\n",
       "  'PostalAddressLine2': 'Vodlanville',\n",
       "  'coords': [37.7905, -114.389]},\n",
       " {'CustomerName': 'Tailspin Toys (Caselton, NV)',\n",
       "  'PostalAddressLine2': 'Montyville',\n",
       "  'coords': [37.9191, -114.485]},\n",
       " {'CustomerName': 'Aishwarya Dantuluri',\n",
       "  'PostalAddressLine2': 'Minaville',\n",
       "  'coords': [39.4124, -121.713]},\n",
       " {'CustomerName': 'Tailspin Toys (Magalia, CA)',\n",
       "  'PostalAddressLine2': 'Javaherianville',\n",
       "  'coords': [39.8121, -121.578]},\n",
       " {'CustomerName': 'Wingtip Toys (Lake Davis, CA)',\n",
       "  'PostalAddressLine2': 'Bhamidipativille',\n",
       "  'coords': [39.8727, -120.479]},\n",
       " {'CustomerName': 'Wingtip Toys (Floriston, CA)',\n",
       "  'PostalAddressLine2': 'Valbeville',\n",
       "  'coords': [39.3946, -120.021]},\n",
       " {'CustomerName': 'Wingtip Toys (Herlong, CA)',\n",
       "  'PostalAddressLine2': 'Lo Ducaville',\n",
       "  'coords': [40.1435, -120.135]},\n",
       " {'CustomerName': 'Wingtip Toys (Salt Wells, NV)',\n",
       "  'PostalAddressLine2': 'Mudaliyarville',\n",
       "  'coords': [39.3752, -118.583]},\n",
       " {'CustomerName': 'Bala Dixit',\n",
       "  'PostalAddressLine2': 'Blahoville',\n",
       "  'coords': [40.8657, -120.46]},\n",
       " {'CustomerName': 'Chandrashekhar Dasgupta',\n",
       "  'PostalAddressLine2': 'Chatterjeeville',\n",
       "  'coords': [43.9699, -116.819]},\n",
       " {'CustomerName': 'Wingtip Toys (Idaho City, ID)',\n",
       "  'PostalAddressLine2': 'Kommineniville',\n",
       "  'coords': [43.8285, -115.835]},\n",
       " {'CustomerName': 'Tailspin Toys (Minidoka, ID)',\n",
       "  'PostalAddressLine2': 'Roblesville',\n",
       "  'coords': [42.7538, -113.49]},\n",
       " {'CustomerName': 'Tailspin Toys (Tumacacori, AZ)',\n",
       "  'PostalAddressLine2': 'Boseville',\n",
       "  'coords': [31.5687, -111.052]},\n",
       " {'CustomerName': 'Wingtip Toys (Amado, AZ)',\n",
       "  'PostalAddressLine2': 'Araujoville',\n",
       "  'coords': [31.7079, -111.065]},\n",
       " {'CustomerName': 'Ludmila Smidova',\n",
       "  'PostalAddressLine2': 'Duttaville',\n",
       "  'coords': [33.4148, -111.909]},\n",
       " {'CustomerName': 'Wingtip Toys (Queen Valley, AZ)',\n",
       "  'PostalAddressLine2': 'Bhowmickville',\n",
       "  'coords': [33.2987, -111.29]},\n",
       " {'CustomerName': 'Tailspin Toys (Cortaro, AZ)',\n",
       "  'PostalAddressLine2': 'Mokkapativille',\n",
       "  'coords': [32.3562, -111.088]},\n",
       " {'CustomerName': 'Wingtip Toys (New Laguna, NM)',\n",
       "  'PostalAddressLine2': 'Dasville',\n",
       "  'coords': [35.0409, -107.422]},\n",
       " {'CustomerName': 'Hana Hlouskova',\n",
       "  'PostalAddressLine2': 'Mansouriville',\n",
       "  'coords': [35.1725, -107.369]},\n",
       " {'CustomerName': 'Nhung Thach',\n",
       "  'PostalAddressLine2': 'Malkville',\n",
       "  'coords': [36.9613, -109.356]},\n",
       " {'CustomerName': 'Devraj Rao',\n",
       "  'PostalAddressLine2': 'safranekville',\n",
       "  'coords': [39.0783, -109.112]},\n",
       " {'CustomerName': 'Wingtip Toys (Head Office)',\n",
       "  'PostalAddressLine2': 'Kopeckaville',\n",
       "  'coords': [39.043, -108.552]},\n",
       " {'CustomerName': 'Som Mukherjee',\n",
       "  'PostalAddressLine2': 'Debrajville',\n",
       "  'coords': [39.525, -111.59]},\n",
       " {'CustomerName': 'Tailspin Toys (Scofield, UT)',\n",
       "  'PostalAddressLine2': 'Tuville',\n",
       "  'coords': [39.7241, -111.161]},\n",
       " {'CustomerName': 'Tailspin Toys (Tooele, UT)',\n",
       "  'PostalAddressLine2': 'Saucierville',\n",
       "  'coords': [40.5308, -112.298]},\n",
       " {'CustomerName': 'Tailspin Toys (Carbonville, UT)',\n",
       "  'PostalAddressLine2': 'Dasville',\n",
       "  'coords': [39.62, -110.834]},\n",
       " {'CustomerName': 'Edmee Glissen',\n",
       "  'PostalAddressLine2': 'Ribeiroville',\n",
       "  'coords': [42.6505, -112.193]}]"
      ]
     },
     "execution_count": 121,
     "metadata": {},
     "output_type": "execute_result"
    }
   ],
   "source": [
    "# query to get the clients that are within a radius of 10km of client 961\n",
    "query = {\"coords\": {\"$within\": {\"$center\": [coords_client961, 10]}}} \n",
    "\n",
    "list(db.Sales_Customers.find(query, {'_id':0,'CustomerName':1,'PostalAddressLine2':1,'coords':1}))"
   ]
  },
  {
   "cell_type": "markdown",
   "metadata": {},
   "source": [
    "# 3. CFO"
   ]
  },
  {
   "cell_type": "markdown",
   "metadata": {},
   "source": [
    "#### - Would like to know the monthly order count?  "
   ]
  },
  {
   "cell_type": "code",
   "execution_count": 67,
   "metadata": {},
   "outputs": [],
   "source": [
    "#query to get the year and the month of the orders\n",
    "query_1 = {\"$project\":{'OrderDateYear':{\"$year\":\"$OrderDate\"}, 'OrderDateMonth':{\"$month\":\"$OrderDate\"}}}\n",
    "\n",
    "query_2 = {\n",
    "    \n",
    "    \"$group\":{\"_id\":{\"Year\":\"$OrderDateYear\",\"Month\":\"$OrderDateMonth\"},\n",
    "              \n",
    "              \"NumberOrders\":{                \n",
    "                  \"$sum\":1 # grouping by (year,month) and counting nr of orders\n",
    "              }\n",
    "              \n",
    "    }\n",
    "    \n",
    "}\n",
    "\n",
    "query_3 = {\n",
    "    \"$sort\":{\"_id\":1} # sorting by nr of orders\n",
    "}\n",
    "\n",
    "pipeline=[query_1,query_2,query_3]"
   ]
  },
  {
   "cell_type": "code",
   "execution_count": 68,
   "metadata": {},
   "outputs": [
    {
     "data": {
      "text/plain": [
       "[{'_id': {'Year': 2013, 'Month': 1}, 'NumberOrders': 1674},\n",
       " {'_id': {'Year': 2013, 'Month': 2}, 'NumberOrders': 1139},\n",
       " {'_id': {'Year': 2013, 'Month': 3}, 'NumberOrders': 1683},\n",
       " {'_id': {'Year': 2013, 'Month': 4}, 'NumberOrders': 1696},\n",
       " {'_id': {'Year': 2013, 'Month': 5}, 'NumberOrders': 1808},\n",
       " {'_id': {'Year': 2013, 'Month': 6}, 'NumberOrders': 1675},\n",
       " {'_id': {'Year': 2013, 'Month': 7}, 'NumberOrders': 1886},\n",
       " {'_id': {'Year': 2013, 'Month': 8}, 'NumberOrders': 1537},\n",
       " {'_id': {'Year': 2013, 'Month': 9}, 'NumberOrders': 1617},\n",
       " {'_id': {'Year': 2013, 'Month': 10}, 'NumberOrders': 1618},\n",
       " {'_id': {'Year': 2013, 'Month': 11}, 'NumberOrders': 1552},\n",
       " {'_id': {'Year': 2013, 'Month': 12}, 'NumberOrders': 1565},\n",
       " {'_id': {'Year': 2014, 'Month': 1}, 'NumberOrders': 1791},\n",
       " {'_id': {'Year': 2014, 'Month': 2}, 'NumberOrders': 1538},\n",
       " {'_id': {'Year': 2014, 'Month': 3}, 'NumberOrders': 1586},\n",
       " {'_id': {'Year': 2014, 'Month': 4}, 'NumberOrders': 1739},\n",
       " {'_id': {'Year': 2014, 'Month': 5}, 'NumberOrders': 1908},\n",
       " {'_id': {'Year': 2014, 'Month': 6}, 'NumberOrders': 1887},\n",
       " {'_id': {'Year': 2014, 'Month': 7}, 'NumberOrders': 2008},\n",
       " {'_id': {'Year': 2014, 'Month': 8}, 'NumberOrders': 1642},\n",
       " {'_id': {'Year': 2014, 'Month': 9}, 'NumberOrders': 1637},\n",
       " {'_id': {'Year': 2014, 'Month': 10}, 'NumberOrders': 1921},\n",
       " {'_id': {'Year': 2014, 'Month': 11}, 'NumberOrders': 1628},\n",
       " {'_id': {'Year': 2014, 'Month': 12}, 'NumberOrders': 1914},\n",
       " {'_id': {'Year': 2015, 'Month': 1}, 'NumberOrders': 1830},\n",
       " {'_id': {'Year': 2015, 'Month': 2}, 'NumberOrders': 1732},\n",
       " {'_id': {'Year': 2015, 'Month': 3}, 'NumberOrders': 1891},\n",
       " {'_id': {'Year': 2015, 'Month': 4}, 'NumberOrders': 2111},\n",
       " {'_id': {'Year': 2015, 'Month': 5}, 'NumberOrders': 1959},\n",
       " {'_id': {'Year': 2015, 'Month': 6}, 'NumberOrders': 1989},\n",
       " {'_id': {'Year': 2015, 'Month': 7}, 'NumberOrders': 2273},\n",
       " {'_id': {'Year': 2015, 'Month': 8}, 'NumberOrders': 1729},\n",
       " {'_id': {'Year': 2015, 'Month': 9}, 'NumberOrders': 2065},\n",
       " {'_id': {'Year': 2015, 'Month': 10}, 'NumberOrders': 1965},\n",
       " {'_id': {'Year': 2015, 'Month': 11}, 'NumberOrders': 1834},\n",
       " {'_id': {'Year': 2015, 'Month': 12}, 'NumberOrders': 1951},\n",
       " {'_id': {'Year': 2016, 'Month': 1}, 'NumberOrders': 1944},\n",
       " {'_id': {'Year': 2016, 'Month': 2}, 'NumberOrders': 1706},\n",
       " {'_id': {'Year': 2016, 'Month': 3}, 'NumberOrders': 1969},\n",
       " {'_id': {'Year': 2016, 'Month': 4}, 'NumberOrders': 1951},\n",
       " {'_id': {'Year': 2016, 'Month': 5}, 'NumberOrders': 2047}]"
      ]
     },
     "execution_count": 68,
     "metadata": {},
     "output_type": "execute_result"
    }
   ],
   "source": [
    "list(db.Sales_Orders.aggregate(pipeline))"
   ]
  },
  {
   "cell_type": "markdown",
   "metadata": {},
   "source": [
    "#### Would like to know the average monthly sales prices?"
   ]
  },
  {
   "cell_type": "code",
   "execution_count": 126,
   "metadata": {},
   "outputs": [],
   "source": [
    "query_1= {\n",
    "    \"$unwind\": \"$Order\" # unwinding order to ease the addfield process\n",
    "}\n",
    "\n",
    "\n",
    "query_2 = {\n",
    "    \"$addFields\": {\n",
    "        \"OrderDate\": \"$Order.OrderDate\", # getting the orderdate on the root of the document\n",
    "    }\n",
    "}\n",
    "\n",
    "query_3 = {\"$project\":{'OrderDateYear':{\"$year\":\"$OrderDate\"}, # projecting the necessary fields: Year and Month\n",
    "                       'OrderDateMonth':{\"$month\":\"$OrderDate\"}, \n",
    "                       'Total':{'$multiply': [ \"$Quantity\", \"$UnitPrice\"] # total of the order\n",
    "                               }\n",
    "                      }\n",
    "          }\n",
    "\n",
    "query_4 = {\n",
    "    \n",
    "    \"$group\":{\"_id\":{\"Year\":\"$OrderDateYear\",\"Month\":\"$OrderDateMonth\"}, #grouping by (year,month)\n",
    "              \n",
    "              \"AverageTotal\":{                \n",
    "                  \"$avg\":\"$Total\" # average of total\n",
    "              }\n",
    "              \n",
    "    }\n",
    "    \n",
    "}\n",
    "\n",
    "query_5 = {\n",
    "    \"$sort\":{\"_id\":1} # sorting by year_month\n",
    "}\n",
    "\n",
    "pipeline=[query_1,query_2,query_3,query_4, query_5]"
   ]
  },
  {
   "cell_type": "code",
   "execution_count": 127,
   "metadata": {},
   "outputs": [
    {
     "data": {
      "text/plain": [
       "[{'_id': {'Year': 2013, 'Month': 1}, 'AverageTotal': 724.2648835447832},\n",
       " {'_id': {'Year': 2013, 'Month': 2}, 'AverageTotal': 757.187922705314},\n",
       " {'_id': {'Year': 2013, 'Month': 3}, 'AverageTotal': 735.9580812766748},\n",
       " {'_id': {'Year': 2013, 'Month': 4}, 'AverageTotal': 782.0304949190817},\n",
       " {'_id': {'Year': 2013, 'Month': 5}, 'AverageTotal': 800.637015265836},\n",
       " {'_id': {'Year': 2013, 'Month': 6}, 'AverageTotal': 777.4632071937056},\n",
       " {'_id': {'Year': 2013, 'Month': 7}, 'AverageTotal': 763.694343622795},\n",
       " {'_id': {'Year': 2013, 'Month': 8}, 'AverageTotal': 747.2962440340319},\n",
       " {'_id': {'Year': 2013, 'Month': 9}, 'AverageTotal': 767.9943616395371},\n",
       " {'_id': {'Year': 2013, 'Month': 10}, 'AverageTotal': 750.3137594275769},\n",
       " {'_id': {'Year': 2013, 'Month': 11}, 'AverageTotal': 770.5888844058907},\n",
       " {'_id': {'Year': 2013, 'Month': 12}, 'AverageTotal': 750.7256141763995},\n",
       " {'_id': {'Year': 2014, 'Month': 1}, 'AverageTotal': 739.6302006335796},\n",
       " {'_id': {'Year': 2014, 'Month': 2}, 'AverageTotal': 739.6986335403726},\n",
       " {'_id': {'Year': 2014, 'Month': 3}, 'AverageTotal': 780.6918471171407}]"
      ]
     },
     "execution_count": 127,
     "metadata": {},
     "output_type": "execute_result"
    }
   ],
   "source": [
    "list(db.Collection_Q2_Q3_Embedded_OrderLines_Order_StockItems.aggregate(pipeline))"
   ]
  },
  {
   "cell_type": "markdown",
   "metadata": {},
   "source": [
    "#### Would like to know the yearly expenditures with suppliers (per supplier name)? "
   ]
  },
  {
   "cell_type": "code",
   "execution_count": 144,
   "metadata": {},
   "outputs": [],
   "source": [
    "query_1= {\n",
    "    \"$unwind\": \"$Supplier\" # unwinding Supplier\n",
    "}\n",
    "\n",
    "query_2 = {\n",
    "    \"$addFields\": {\n",
    "        \"SupplierName\": \"$Supplier.SupplierName\", # adding SupplierName to the root\n",
    "    }\n",
    "}\n",
    "\n",
    "query_3 = {\"$project\":{'TransactionYear':{\"$year\":\"$TransactionDate\"}, # Projecting only the necessary fields\n",
    "                       'SupplierName':1,\n",
    "                       'TransactionAmount':1\n",
    "                      }\n",
    "          }\n",
    "\n",
    "query_4 = {\n",
    "    \n",
    "    \"$group\":{\"_id\":{\"Year\":\"$TransactionYear\",\"Supplier\":\"$SupplierName\"}, # grouping by (year,suppliername)\n",
    "              \n",
    "              \"Total\":{                \n",
    "                  \"$sum\":\"$TransactionAmount\" # getting the total amount of the supplier on the year\n",
    "              }\n",
    "              \n",
    "    }\n",
    "    \n",
    "}\n",
    "\n",
    "pipeline=[query_1,query_2,query_3, query_4]"
   ]
  },
  {
   "cell_type": "code",
   "execution_count": 145,
   "metadata": {
    "scrolled": false
   },
   "outputs": [
    {
     "data": {
      "text/plain": [
       "[{'_id': {'Year': 2013, 'Supplier': 'Northwind Electric Cars'},\n",
       "  'Total': -3.637978807091713e-12},\n",
       " {'_id': {'Year': 2013, 'Supplier': 'Litware, Inc.'},\n",
       "  'Total': 119343.31999999998},\n",
       " {'_id': {'Year': 2015, 'Supplier': 'Litware, Inc.'},\n",
       "  'Total': 1353734.6900000004},\n",
       " {'_id': {'Year': 2016, 'Supplier': 'Litware, Inc.'},\n",
       "  'Total': -1310231.1100000003},\n",
       " {'_id': {'Year': 2014, 'Supplier': 'Fabrikam, Inc.'},\n",
       "  'Total': 1510955.0999999973},\n",
       " {'_id': {'Year': 2016, 'Supplier': 'A Datum Corporation'}, 'Total': 0.0},\n",
       " {'_id': {'Year': 2016, 'Supplier': 'Fabrikam, Inc.'},\n",
       "  'Total': -2961969.900000002},\n",
       " {'_id': {'Year': 2013, 'Supplier': 'Fabrikam, Inc.'},\n",
       "  'Total': 485380.49999999977},\n",
       " {'_id': {'Year': 2013, 'Supplier': 'Graphic Design Institute'}, 'Total': 0.0},\n",
       " {'_id': {'Year': 2014, 'Supplier': 'Litware, Inc.'},\n",
       "  'Total': 686937.2100000002},\n",
       " {'_id': {'Year': 2015, 'Supplier': 'Fabrikam, Inc.'},\n",
       "  'Total': 2837528.3999999994},\n",
       " {'_id': {'Year': 2013, 'Supplier': 'The Phone Company'}, 'Total': 0.0},\n",
       " {'_id': {'Year': 2013, 'Supplier': 'Contoso, Ltd.'}, 'Total': 0.0}]"
      ]
     },
     "execution_count": 145,
     "metadata": {},
     "output_type": "execute_result"
    }
   ],
   "source": [
    "list(db.Collection_Q4_Embedded_SupplierTransaction_Supplier_SupplierCategory.aggregate(pipeline))"
   ]
  },
  {
   "cell_type": "markdown",
   "metadata": {},
   "source": [
    "# 4. Partnerships"
   ]
  },
  {
   "cell_type": "markdown",
   "metadata": {},
   "source": [
    "#### - Would like to know what's the most common payment type? "
   ]
  },
  {
   "cell_type": "code",
   "execution_count": 77,
   "metadata": {},
   "outputs": [],
   "source": [
    "query_1 =  {\n",
    "        '$lookup': {\n",
    "           \"from\": \"Application_PaymentMethods\", # joining payment methods to the suppliers\n",
    "           \"localField\": \"PaymentMethodID\",\n",
    "           \"foreignField\": \"PaymentMethodID\",\n",
    "            \"as\": \"Application_PaymentMethods\"\n",
    "        }\n",
    "    }\n",
    "\n",
    "query_2 = {\n",
    "        '$unwind': '$Application_PaymentMethods' # unwinding to get the methodname on the root of the documents\n",
    "    }\n",
    "\n",
    "query_3 = {\n",
    "    \"$addFields\": {\n",
    "        \"MethodName\": \"$Application_PaymentMethods.PaymentMethodName\", # getting the methodname to the root\n",
    "    }\n",
    "}\n",
    "\n",
    "query_4 = {\n",
    "        '$project': {\n",
    "           'MethodName': 1, # projecting only method name and its id\n",
    "            'PaymentMethodID':1,\n",
    "            '_id':0\n",
    "        }}\n",
    "\n",
    "query_5 = {\n",
    "    \n",
    "    \"$group\":{\"_id\":\"$MethodName\", # grouping by method name\n",
    "              \n",
    "              \"NrPayments\":{                \n",
    "                  \"$sum\":1 # getting the number of payments made with a specific method\n",
    "              }\n",
    "              \n",
    "    }\n",
    "    \n",
    "}\n",
    "\n",
    "pipeline=[query_1,query_2,query_3, query_4,query_5]"
   ]
  },
  {
   "cell_type": "code",
   "execution_count": 78,
   "metadata": {},
   "outputs": [],
   "source": [
    "top_method_suppliers = list(db.Purchasing_SupplierTransactions.aggregate(pipeline))\n",
    "# getting the top method for supplier transactions"
   ]
  },
  {
   "cell_type": "code",
   "execution_count": 79,
   "metadata": {},
   "outputs": [],
   "source": [
    "query_1 =  {\n",
    "        '$lookup': {\n",
    "           \"from\": \"Application_PaymentMethods\", # doing exactly the same, but for the customer transactions\n",
    "           \"localField\": \"PaymentMethodID\",\n",
    "           \"foreignField\": \"PaymentMethodID\",\n",
    "            \"as\": \"Application_PaymentMethods\"\n",
    "        }\n",
    "    }\n",
    "\n",
    "query_2 = {\n",
    "        '$unwind': '$Application_PaymentMethods'\n",
    "    }\n",
    "\n",
    "query_3 = {\n",
    "    \"$addFields\": {\n",
    "        \"MethodName\": \"$Application_PaymentMethods.PaymentMethodName\",\n",
    "    }\n",
    "}\n",
    "\n",
    "query_4 = {\n",
    "        '$project': {\n",
    "           'MethodName': 1,\n",
    "            'PaymentMethodID':1,\n",
    "            '_id':0\n",
    "        }}\n",
    "\n",
    "query_5 = {\n",
    "    \n",
    "    \"$group\":{\"_id\":\"$MethodName\",\n",
    "              \n",
    "              \"NrPayments\":{                \n",
    "                  \"$sum\":1\n",
    "              }\n",
    "              \n",
    "    }\n",
    "    \n",
    "}\n",
    "pipeline=[query_1,query_2,query_3, query_4,query_5]"
   ]
  },
  {
   "cell_type": "code",
   "execution_count": 80,
   "metadata": {},
   "outputs": [],
   "source": [
    "top_method_customers=list(db.Sales_CustomerTransactions.aggregate(pipeline)) \n",
    "# getting the top method for customer transactions"
   ]
  },
  {
   "cell_type": "code",
   "execution_count": 89,
   "metadata": {},
   "outputs": [
    {
     "name": "stdout",
     "output_type": "stream",
     "text": [
      "EFT : 16447\n"
     ]
    }
   ],
   "source": [
    "# Most used method and nr of payments made\n",
    "print(top_method_suppliers[0]['_id'],':',top_method_suppliers[0]['NrPayments'] + top_method_customers[0]['NrPayments'])"
   ]
  },
  {
   "cell_type": "markdown",
   "metadata": {},
   "source": [
    "#### - Which supplier of `Novelty Goods Supplier` has the most transactions? "
   ]
  },
  {
   "cell_type": "code",
   "execution_count": 103,
   "metadata": {},
   "outputs": [],
   "source": [
    "query_1= {\n",
    "    \"$unwind\": \"$Supplier\" # unwinding supplier to get its category on the root\n",
    "}\n",
    "\n",
    "query_2={\"$unwind\": \"$Supplier.SupplierCategory\"} # unwinding suppliercategory to extract the category to the root\n",
    "\n",
    "query_3 = {\n",
    "    \"$addFields\": {\n",
    "        \"SupplierCategoryName\": \"$Supplier.SupplierCategory.SupplierCategoryName\", # cattegoryname to the root\n",
    "    }\n",
    "}\n",
    "\n",
    "query_4 = {\"$match\":{\"SupplierCategoryName\":{\"$eq\":\"Novelty Goods Supplier\"}}} # matching suppliers of the mentioned category\n",
    "\n",
    "query_5 = {\n",
    "    \n",
    "    \"$group\":{\"_id\":\"$Supplier.SupplierName\",\n",
    "              \n",
    "              \"NrTransactions\":{                \n",
    "                  \"$sum\":1 # grouping by supplier name and counting the nr of transactions for that supplier\n",
    "              }\n",
    "              \n",
    "    }\n",
    "    \n",
    "}\n",
    "\n",
    "query_6={\"$sort\":{\"NrTransactions\":-1}} # sorting\n",
    "\n",
    "limit={\"$limit\":1} # getting our top supplier\n",
    "\n",
    "pipeline=[query_1,query_2,query_3,query_4,query_5,query_6,limit]"
   ]
  },
  {
   "cell_type": "code",
   "execution_count": 104,
   "metadata": {},
   "outputs": [
    {
     "data": {
      "text/plain": [
       "[{'_id': 'Graphic Design Institute', 'NrTransactions': 16}]"
      ]
     },
     "execution_count": 104,
     "metadata": {},
     "output_type": "execute_result"
    }
   ],
   "source": [
    "list(db.Collection_Q4_Embedded_SupplierTransaction_Supplier_SupplierCategory.aggregate(pipeline))"
   ]
  },
  {
   "cell_type": "markdown",
   "metadata": {},
   "source": [
    "# 5. Marketing Team"
   ]
  },
  {
   "cell_type": "markdown",
   "metadata": {},
   "source": [
    "#### - Want to make an appreciation post and needs the name of the sales person with the most invoices in 2013 (person who's customers brought the most money)?"
   ]
  },
  {
   "cell_type": "code",
   "execution_count": 58,
   "metadata": {},
   "outputs": [],
   "source": [
    "query_1={\"$unwind\":\"$Invoice\"} # unwinding invoices\n",
    "\n",
    "query_2 = {\n",
    "    \"$addFields\": {\n",
    "        \"Year\": {\"$year\":\"$Invoice.InvoiceDate\"}, # getting the year of the invoice to the root of the document\n",
    "    }\n",
    "}\n",
    "\n",
    "\n",
    "query_3 = { \"$project\":{\n",
    "    \"FullName\":\"$Invoice.ApplicationPerson.FullName\", # getting only the necessary fields: SalespersonName, Year, Revenue\n",
    "    \"Year\":1,\n",
    "    \"Revenue\":1\n",
    "     \n",
    "                       }\n",
    "       \n",
    "}\n",
    "\n",
    "query_4 = {\"$match\":{\"Year\":{\"$eq\":2013}}} # only year 2013\n",
    "\n",
    "query_5 = {\n",
    "    \n",
    "    \"$group\":{\"_id\":\"$FullName\", # grouping by fullname\n",
    "              \n",
    "              \"NumberInvoices\":{                \n",
    "                  \"$sum\":1 # counting nr of invoices issued\n",
    "              },\n",
    "              \"TotalRevenue\":{\n",
    "                  \"$sum\":\"$Revenue\"  # summing totalrevenue                \n",
    "              }            \n",
    "    }   \n",
    "}\n",
    "\n",
    "\n",
    "# sorting by totalrevenue (brought the most money) and number of invoices (with the most invoices)\n",
    "query_6 = {\"$sort\":{\"TotalRevenue\":-1, \"NumberInvoices\":-1}}\n",
    "\n",
    "limit={\"$limit\":10}\n",
    "\n",
    "pipeline=[query_1,query_2,query_3, query_4, query_5, query_6, limit]"
   ]
  },
  {
   "cell_type": "code",
   "execution_count": 59,
   "metadata": {
    "scrolled": false
   },
   "outputs": [
    {
     "data": {
      "text/plain": [
       "[{'_id': ['Hudson Onslow'],\n",
       "  'NumberInvoices': 3148,\n",
       "  'TotalRevenue': 2545902.55},\n",
       " {'_id': ['Archer Lamble'], 'NumberInvoices': 3043, 'TotalRevenue': 2349522.6},\n",
       " {'_id': ['Sophia Hinton'], 'NumberInvoices': 3092, 'TotalRevenue': 2316587.9},\n",
       " {'_id': ['Anthony Grosse'],\n",
       "  'NumberInvoices': 3055,\n",
       "  'TotalRevenue': 2286768.45},\n",
       " {'_id': ['Lily Code'], 'NumberInvoices': 2927, 'TotalRevenue': 2280010.2},\n",
       " {'_id': ['Jack Potter'], 'NumberInvoices': 2966, 'TotalRevenue': 2244343.75},\n",
       " {'_id': ['Amy Trefl'], 'NumberInvoices': 2935, 'TotalRevenue': 2203145.35},\n",
       " {'_id': ['Kayla Woodcock'],\n",
       "  'NumberInvoices': 2917,\n",
       "  'TotalRevenue': 2187923.45},\n",
       " {'_id': ['Hudson Hollinworth'],\n",
       "  'NumberInvoices': 2975,\n",
       "  'TotalRevenue': 2124484.15},\n",
       " {'_id': ['Taj Shand'], 'NumberInvoices': 2942, 'TotalRevenue': 2113387.3}]"
      ]
     },
     "execution_count": 59,
     "metadata": {},
     "output_type": "execute_result"
    }
   ],
   "source": [
    "list(db.Collection_Q5_Embedded_InvoiceLines_Invoice_People.aggregate(pipeline))"
   ]
  }
 ],
 "metadata": {
  "kernelspec": {
   "display_name": "Python 3",
   "language": "python",
   "name": "python3"
  },
  "language_info": {
   "codemirror_mode": {
    "name": "ipython",
    "version": 3
   },
   "file_extension": ".py",
   "mimetype": "text/x-python",
   "name": "python",
   "nbconvert_exporter": "python",
   "pygments_lexer": "ipython3",
   "version": "3.8.5"
  }
 },
 "nbformat": 4,
 "nbformat_minor": 4
}
