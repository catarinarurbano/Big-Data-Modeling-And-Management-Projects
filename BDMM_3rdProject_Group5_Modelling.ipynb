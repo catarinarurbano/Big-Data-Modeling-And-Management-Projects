{
 "cells": [
  {
   "cell_type": "markdown",
   "metadata": {},
   "source": [
    "# BDMM HW3 Modelling - Group 5\n",
    "\n",
    "#### Made by:\n",
    "* Catarina Candeias (m20200656@novaims.unl.pt)\n",
    "* Catarina Urbano (m20200607@novaims.unl.pt)\n",
    "* Margarida Pereira (m20201038@novaims.unl.pt) \n",
    "* Rita Ferreira (m20200661@novaims.unl.pt)\n",
    "* Tiago Gonçalves (m20201053@novaims.unl.pt)"
   ]
  },
  {
   "cell_type": "markdown",
   "metadata": {},
   "source": [
    "# Migrate all data to the database "
   ]
  },
  {
   "cell_type": "code",
   "execution_count": 1,
   "metadata": {},
   "outputs": [],
   "source": [
    "from pymongo import MongoClient\n",
    "import sys, urllib.request, json, pymongo\n",
    "from bson import json_util"
   ]
  },
  {
   "cell_type": "code",
   "execution_count": 2,
   "metadata": {},
   "outputs": [],
   "source": [
    "host=\"rhea.isegi.unl.pt\"\n",
    "port=\"27022\"\n",
    "user=\"GROUP_05\"\n",
    "password=\"if8G1FFeOQICvBc4wz4ZYgft2wlxSnBR\"\n",
    "protocol=\"mongodb\"\n",
    "client = MongoClient(f\"{protocol}://{user}:{password}@{host}:{port}\")"
   ]
  },
  {
   "cell_type": "code",
   "execution_count": 3,
   "metadata": {},
   "outputs": [],
   "source": [
    "db = client['WWI']"
   ]
  },
  {
   "cell_type": "markdown",
   "metadata": {},
   "source": [
    "#### API with Application data"
   ]
  },
  {
   "cell_type": "code",
   "execution_count": 4,
   "metadata": {},
   "outputs": [],
   "source": [
    "application_cities = \"http://rhea.isegi.unl.pt:8080/Project_WWI_Application_Cities.json\"\n",
    "response = urllib.request.urlopen(application_cities)\n",
    "data_cities = json_util.loads(response.read())"
   ]
  },
  {
   "cell_type": "code",
   "execution_count": 5,
   "metadata": {},
   "outputs": [],
   "source": [
    "application_countries = \"http://rhea.isegi.unl.pt:8080/Project_WWI_Application_Countries.json\"\n",
    "response = urllib.request.urlopen(application_countries)\n",
    "data_countries = json_util.loads(response.read())"
   ]
  },
  {
   "cell_type": "code",
   "execution_count": 6,
   "metadata": {},
   "outputs": [],
   "source": [
    "application_delivery = \"http://rhea.isegi.unl.pt:8080/Project_WWI_Application_DeliveryMethods.json\"\n",
    "response = urllib.request.urlopen(application_delivery)\n",
    "data_delivery = json_util.loads(response.read())"
   ]
  },
  {
   "cell_type": "code",
   "execution_count": 7,
   "metadata": {},
   "outputs": [],
   "source": [
    "application_payment = \"http://rhea.isegi.unl.pt:8080/Project_WWI_Application_PaymentMethods.json\"\n",
    "response = urllib.request.urlopen(application_payment)\n",
    "data_payment = json_util.loads(response.read())"
   ]
  },
  {
   "cell_type": "code",
   "execution_count": 8,
   "metadata": {},
   "outputs": [],
   "source": [
    "application_people = \"http://rhea.isegi.unl.pt:8080/Project_WWI_Application_People.json\"\n",
    "response = urllib.request.urlopen(application_people)\n",
    "data_people = json_util.loads(response.read())        "
   ]
  },
  {
   "cell_type": "code",
   "execution_count": 9,
   "metadata": {},
   "outputs": [],
   "source": [
    "application_stateprovinces = \"http://rhea.isegi.unl.pt:8080/Project_WWI_Application_StateProvinces.json\"\n",
    "response = urllib.request.urlopen(application_stateprovinces)\n",
    "data_stateprovinces = json_util.loads(response.read())       "
   ]
  },
  {
   "cell_type": "code",
   "execution_count": 10,
   "metadata": {},
   "outputs": [],
   "source": [
    "application_transactiontypes = \"http://rhea.isegi.unl.pt:8080/Project_WWI_Application_TransactionTypes.json\"\n",
    "response = urllib.request.urlopen(application_transactiontypes)\n",
    "data_transactiontypes = json_util.loads(response.read())       "
   ]
  },
  {
   "cell_type": "code",
   "execution_count": 11,
   "metadata": {},
   "outputs": [
    {
     "data": {
      "text/plain": [
       "<pymongo.results.InsertManyResult at 0x286080851c0>"
      ]
     },
     "execution_count": 11,
     "metadata": {},
     "output_type": "execute_result"
    }
   ],
   "source": [
    "#create collections\n",
    "Application_Cities = db['Application_Cities']\n",
    "Application_Countries = db['Application_Countries']\n",
    "Application_DeliveryMethods = db['Application_DeliveryMethods']\n",
    "Application_PaymentMethods = db['Application_PaymentMethods']\n",
    "Application_People = db['Application_People']\n",
    "Application_StateProvinces = db['Application_StateProvinces']\n",
    "Application_TransactionTypes = db['Application_TransactionTypes']\n",
    "\n",
    "# insert the data into each collection\n",
    "Application_Cities.insert_many(data_cities)\n",
    "Application_Countries.insert_many(data_countries)\n",
    "Application_DeliveryMethods.insert_many(data_delivery)\n",
    "Application_PaymentMethods.insert_many(data_payment)\n",
    "Application_People.insert_many(data_people)\n",
    "Application_StateProvinces.insert_many(data_stateprovinces)\n",
    "Application_TransactionTypes.insert_many(data_transactiontypes)\n"
   ]
  },
  {
   "cell_type": "markdown",
   "metadata": {},
   "source": [
    "#### RDBMS/SQL"
   ]
  },
  {
   "cell_type": "code",
   "execution_count": 12,
   "metadata": {},
   "outputs": [],
   "source": [
    "host=\"rhea.isegi.unl.pt\"\n",
    "user=\"wwi-read-only-user\"\n",
    "password=\"jGp2GCqrss6nfTEu5ZawhW3mksLsQYQb\"\n",
    "database=\"WWI\""
   ]
  },
  {
   "cell_type": "code",
   "execution_count": 13,
   "metadata": {},
   "outputs": [
    {
     "name": "stdout",
     "output_type": "stream",
     "text": [
      "Requirement already satisfied: mysql-connector-python in c:\\users\\tigas\\anaconda3\\lib\\site-packages (8.0.25)\n",
      "Requirement already satisfied: protobuf>=3.0.0 in c:\\users\\tigas\\anaconda3\\lib\\site-packages (from mysql-connector-python) (3.15.6)\n",
      "Requirement already satisfied: six>=1.9 in c:\\users\\tigas\\anaconda3\\lib\\site-packages (from protobuf>=3.0.0->mysql-connector-python) (1.15.0)\n"
     ]
    }
   ],
   "source": [
    "!pip install mysql-connector-python"
   ]
  },
  {
   "cell_type": "code",
   "execution_count": 34,
   "metadata": {},
   "outputs": [
    {
     "name": "stdout",
     "output_type": "stream",
     "text": [
      "Tables:\n",
      " [('Purchasing_PurchaseOrderLines',), ('Purchasing_PurchaseOrders',), ('Purchasing_SupplierCategories',), ('Purchasing_SupplierTransactions',), ('Purchasing_Suppliers',), ('Sales_CustomerCategories',), ('Sales_CustomerTransactions',), ('Sales_Customers',), ('Sales_InvoiceLines',), ('Sales_Invoices',), ('Sales_OrderLines',), ('Sales_Orders',)]\n"
     ]
    }
   ],
   "source": [
    "import mysql.connector\n",
    "mydb = mysql.connector.connect(host=host, user=user, database=database, password=password, port=3306)\n",
    "mycursor = mydb.cursor()\n",
    "\n",
    "mycursor.execute('SHOW TABLES;')\n",
    "print(f\"Tables:\\n {mycursor.fetchall()}\")"
   ]
  },
  {
   "cell_type": "code",
   "execution_count": 37,
   "metadata": {},
   "outputs": [],
   "source": [
    "import pandas as pd\n",
    "import numpy as np\n",
    "for collection in ['Purchasing_PurchaseOrderLines','Purchasing_PurchaseOrders','Purchasing_SupplierCategories','Purchasing_SupplierTransactions','Purchasing_Suppliers','Sales_CustomerCategories','Sales_CustomerTransactions','Sales_Customers','Sales_InvoiceLines','Sales_Invoices','Sales_OrderLines','Sales_Orders']:\n",
    "\n",
    "    df = pd.read_sql(f\"SELECT * FROM {collection} \", con=mydb)\n",
    "    \n",
    "    if collection == 'Sales_CustomerTransactions':\n",
    "        df['TransactionDate'] = pd.to_datetime(df['TransactionDate'])\n",
    "        df['FinalizationDate'] = pd.to_datetime(df['FinalizationDate'])\n",
    "        \n",
    "    if collection == 'Purchasing_PurchaseOrders':\n",
    "        df['OrderDate'] = pd.to_datetime(df['OrderDate'])\n",
    "        df['ExpectedDeliveryDate'] = pd.to_datetime(df['ExpectedDeliveryDate'])\n",
    "    \n",
    "    if collection == 'Purchasing_SupplierTransactions':\n",
    "        df['TransactionDate'] = pd.to_datetime(df['TransactionDate'])\n",
    "        df['FinalizationDate'] = pd.to_datetime(df['FinalizationDate'])\n",
    "    \n",
    "    if collection == 'Sales_Customers':\n",
    "        df['AccountOpenedDate'] = pd.to_datetime(df['AccountOpenedDate'])\n",
    "    \n",
    "    if collection == 'Sales_Invoices':\n",
    "        df['InvoiceDate'] = pd.to_datetime(df['InvoiceDate'])\n",
    "    \n",
    "    if collection == 'Sales_Orders':\n",
    "        df['OrderDate'] = pd.to_datetime(df['OrderDate'])\n",
    "        df['ExpectedDeliveryDate'] = pd.to_datetime(df['ExpectedDeliveryDate'])\n",
    "    \n",
    "    df.replace({np.nan:None}, inplace=True)\n",
    "    \n",
    "    VARIAVEL = df.to_dict(orient='records')\n",
    "    \n",
    "    if collection == 'Purchasing_PurchaseOrderLines':\n",
    "        Purchasing_PurchaseOrderLines = db[collection]\n",
    "        Purchasing_PurchaseOrderLines.insert_many(VARIAVEL)\n",
    "\n",
    "    if collection == 'Purchasing_PurchaseOrders':\n",
    "        Purchasing_PurchaseOrders = db[collection]\n",
    "        Purchasing_PurchaseOrders.insert_many(VARIAVEL)\n",
    "        \n",
    "    if collection == 'Purchasing_SupplierCategories':\n",
    "        Purchasing_SupplierCategories = db[collection]\n",
    "        Purchasing_SupplierCategories.insert_many(VARIAVEL)\n",
    "        \n",
    "    if collection == 'Purchasing_SupplierTransactions':\n",
    "        Purchasing_SupplierTransactions = db[collection]\n",
    "        Purchasing_SupplierTransactions.insert_many(VARIAVEL)\n",
    "        \n",
    "    if collection == 'Purchasing_Suppliers':\n",
    "        Purchasing_Suppliers = db[collection]\n",
    "        Purchasing_Suppliers.insert_many(VARIAVEL)\n",
    "        \n",
    "    if collection == 'Sales_CustomerCategories':\n",
    "        Sales_CustomerCategories = db[collection]\n",
    "        Sales_CustomerCategories.insert_many(VARIAVEL)\n",
    "        \n",
    "    if collection == 'Sales_CustomerTransactions':\n",
    "        Sales_CustomerTransactions = db[collection]\n",
    "        Sales_CustomerTransactions.insert_many(VARIAVEL)   \n",
    "    \n",
    "    if collection == 'Sales_Customers':\n",
    "        Sales_Customers = db[collection]\n",
    "        Sales_Customers.insert_many(VARIAVEL)\n",
    "        \n",
    "    if collection == 'Sales_InvoiceLines':\n",
    "        Sales_InvoiceLines = db[collection]\n",
    "        Sales_InvoiceLines.insert_many(VARIAVEL)\n",
    "        \n",
    "    if collection == 'Sales_Invoices':\n",
    "        Sales_Invoices = db[collection]\n",
    "        Sales_Invoices.insert_many(VARIAVEL)\n",
    "        \n",
    "    if collection == 'Sales_OrderLines':\n",
    "        Sales_OrderLines = db[collection]\n",
    "        Sales_OrderLines.insert_many(VARIAVEL)\n",
    "        \n",
    "    if collection == 'Sales_Orders':\n",
    "        Sales_Orders = db[collection]\n",
    "        Sales_Orders.insert_many(VARIAVEL)"
   ]
  },
  {
   "cell_type": "markdown",
   "metadata": {},
   "source": [
    "#### CSV with Warehouse Data"
   ]
  },
  {
   "cell_type": "code",
   "execution_count": 16,
   "metadata": {},
   "outputs": [],
   "source": [
    "# Import csv's\n",
    "\n",
    "Warehouse_Colors = db['Warehouse_Colors']\n",
    "Warehouse_PackageTypes = db['Warehouse_PackageTypes']\n",
    "Warehouse_StockGroups = db['Warehouse_StockGroups']\n",
    "Warehouse_StockItems = db['Warehouse_StockItems']\n",
    "Warehouse_StockItemStockGroups = db['Warehouse_StockItemStockGroups']\n",
    "Warehouse_StockItemTransactions = db['Warehouse_StockItemTransactions']"
   ]
  },
  {
   "cell_type": "markdown",
   "metadata": {},
   "source": [
    "#### Warehouse_Colors"
   ]
  },
  {
   "cell_type": "code",
   "execution_count": 17,
   "metadata": {},
   "outputs": [
    {
     "data": {
      "text/plain": [
       "<pymongo.results.InsertManyResult at 0x28614715980>"
      ]
     },
     "execution_count": 17,
     "metadata": {},
     "output_type": "execute_result"
    }
   ],
   "source": [
    "data_colors = pd.read_csv('csv/Project_WWI_Warehouse_Colors.csv').to_dict(orient='records')\n",
    "Warehouse_Colors.insert_many(data_colors)"
   ]
  },
  {
   "cell_type": "code",
   "execution_count": 18,
   "metadata": {},
   "outputs": [
    {
     "data": {
      "text/plain": [
       "[{'_id': ObjectId('60b25fd91ab445ac8bcbdef0'),\n",
       "  'ColorID': 1,\n",
       "  'ColorName': 'Azure'},\n",
       " {'_id': ObjectId('60b25fd91ab445ac8bcbdef1'),\n",
       "  'ColorID': 2,\n",
       "  'ColorName': 'Beige'},\n",
       " {'_id': ObjectId('60b25fd91ab445ac8bcbdef2'),\n",
       "  'ColorID': 3,\n",
       "  'ColorName': 'Black'},\n",
       " {'_id': ObjectId('60b25fd91ab445ac8bcbdef3'),\n",
       "  'ColorID': 4,\n",
       "  'ColorName': 'Blue'},\n",
       " {'_id': ObjectId('60b25fd91ab445ac8bcbdef4'),\n",
       "  'ColorID': 5,\n",
       "  'ColorName': 'Charcoal'}]"
      ]
     },
     "execution_count": 18,
     "metadata": {},
     "output_type": "execute_result"
    }
   ],
   "source": [
    "list(Warehouse_Colors.find(limit=5))"
   ]
  },
  {
   "cell_type": "markdown",
   "metadata": {},
   "source": [
    "#### Warehouse_PackageTypes"
   ]
  },
  {
   "cell_type": "code",
   "execution_count": 19,
   "metadata": {},
   "outputs": [
    {
     "data": {
      "text/plain": [
       "<pymongo.results.InsertManyResult at 0x2860c814d80>"
      ]
     },
     "execution_count": 19,
     "metadata": {},
     "output_type": "execute_result"
    }
   ],
   "source": [
    "data_packagetypes = pd.read_csv('csv/Project_WWI_Warehouse_PackageTypes.csv').to_dict(orient='records')\n",
    "Warehouse_PackageTypes.insert_many(data_packagetypes)"
   ]
  },
  {
   "cell_type": "code",
   "execution_count": 20,
   "metadata": {},
   "outputs": [
    {
     "data": {
      "text/plain": [
       "[{'_id': ObjectId('60b25fd91ab445ac8bcbdf14'),\n",
       "  'PackageTypeID': 1,\n",
       "  'PackageTypeName': 'Bag'},\n",
       " {'_id': ObjectId('60b25fd91ab445ac8bcbdf15'),\n",
       "  'PackageTypeID': 2,\n",
       "  'PackageTypeName': 'Block'},\n",
       " {'_id': ObjectId('60b25fd91ab445ac8bcbdf16'),\n",
       "  'PackageTypeID': 3,\n",
       "  'PackageTypeName': 'Bottle'},\n",
       " {'_id': ObjectId('60b25fd91ab445ac8bcbdf17'),\n",
       "  'PackageTypeID': 4,\n",
       "  'PackageTypeName': 'Box'},\n",
       " {'_id': ObjectId('60b25fd91ab445ac8bcbdf18'),\n",
       "  'PackageTypeID': 5,\n",
       "  'PackageTypeName': 'Can'}]"
      ]
     },
     "execution_count": 20,
     "metadata": {},
     "output_type": "execute_result"
    }
   ],
   "source": [
    "list(Warehouse_PackageTypes.find(limit=5))"
   ]
  },
  {
   "cell_type": "markdown",
   "metadata": {},
   "source": [
    "#### Warehouse_StockGroups"
   ]
  },
  {
   "cell_type": "code",
   "execution_count": 21,
   "metadata": {},
   "outputs": [
    {
     "data": {
      "text/plain": [
       "<pymongo.results.InsertManyResult at 0x28614715440>"
      ]
     },
     "execution_count": 21,
     "metadata": {},
     "output_type": "execute_result"
    }
   ],
   "source": [
    "data_stockgroups = pd.read_csv('csv/Project_WWI_Warehouse_StockGroups.csv').to_dict(orient='records')\n",
    "Warehouse_StockGroups.insert_many(data_stockgroups)"
   ]
  },
  {
   "cell_type": "code",
   "execution_count": 22,
   "metadata": {},
   "outputs": [
    {
     "data": {
      "text/plain": [
       "[{'_id': ObjectId('60b25fd91ab445ac8bcbdf22'),\n",
       "  'StockGroupID': 1,\n",
       "  'StockGroupName': 'Novelty Items'},\n",
       " {'_id': ObjectId('60b25fd91ab445ac8bcbdf23'),\n",
       "  'StockGroupID': 2,\n",
       "  'StockGroupName': 'Clothing'},\n",
       " {'_id': ObjectId('60b25fd91ab445ac8bcbdf24'),\n",
       "  'StockGroupID': 3,\n",
       "  'StockGroupName': 'Mugs'},\n",
       " {'_id': ObjectId('60b25fd91ab445ac8bcbdf25'),\n",
       "  'StockGroupID': 4,\n",
       "  'StockGroupName': 'T-Shirts'},\n",
       " {'_id': ObjectId('60b25fd91ab445ac8bcbdf26'),\n",
       "  'StockGroupID': 5,\n",
       "  'StockGroupName': 'Airline Novelties'}]"
      ]
     },
     "execution_count": 22,
     "metadata": {},
     "output_type": "execute_result"
    }
   ],
   "source": [
    "list(Warehouse_StockGroups.find(limit=5))"
   ]
  },
  {
   "cell_type": "markdown",
   "metadata": {},
   "source": [
    "#### Warehouse_StockItems"
   ]
  },
  {
   "cell_type": "code",
   "execution_count": 23,
   "metadata": {},
   "outputs": [
    {
     "data": {
      "text/plain": [
       "<pymongo.results.InsertManyResult at 0x2860c74f500>"
      ]
     },
     "execution_count": 23,
     "metadata": {},
     "output_type": "execute_result"
    }
   ],
   "source": [
    "data_stockitems = pd.read_csv('csv/Project_WWI_Warehouse_StockItems.csv').replace({np.nan:None}).to_dict(orient='records')\n",
    "Warehouse_StockItems.insert_many(data_stockitems)"
   ]
  },
  {
   "cell_type": "code",
   "execution_count": 24,
   "metadata": {
    "scrolled": true
   },
   "outputs": [
    {
     "data": {
      "text/plain": [
       "[{'_id': ObjectId('60b25fd91ab445ac8bcbdf2c'),\n",
       "  'StockItemID': 1,\n",
       "  'StockItemName': 'USB missile launcher (Green)',\n",
       "  'SupplierID': 12,\n",
       "  'ColorID': None,\n",
       "  'UnitPackageID': 7,\n",
       "  'OuterPackageID': 7,\n",
       "  'Brand': None,\n",
       "  'Size': None,\n",
       "  'LeadTimeDays': 14,\n",
       "  'QuantityPerOuter': 1,\n",
       "  'IsChillerStock': False,\n",
       "  'Barcode': None,\n",
       "  'TaxRate': 15.0,\n",
       "  'UnitPrice': 25.0,\n",
       "  'RecommendedRetailPrice': 37.38,\n",
       "  'TypicalWeightPerUnit': 0.3,\n",
       "  'MarketingComments': 'Complete with 12 projectiles',\n",
       "  'InternalComments': None,\n",
       "  'Photo': None,\n",
       "  'SearchDetails': 'USB missile launcher (Green) Complete with 12 projectiles'},\n",
       " {'_id': ObjectId('60b25fd91ab445ac8bcbdf2d'),\n",
       "  'StockItemID': 2,\n",
       "  'StockItemName': 'USB rocket launcher (Gray)',\n",
       "  'SupplierID': 12,\n",
       "  'ColorID': 12.0,\n",
       "  'UnitPackageID': 7,\n",
       "  'OuterPackageID': 7,\n",
       "  'Brand': None,\n",
       "  'Size': None,\n",
       "  'LeadTimeDays': 14,\n",
       "  'QuantityPerOuter': 1,\n",
       "  'IsChillerStock': False,\n",
       "  'Barcode': None,\n",
       "  'TaxRate': 15.0,\n",
       "  'UnitPrice': 25.0,\n",
       "  'RecommendedRetailPrice': 37.38,\n",
       "  'TypicalWeightPerUnit': 0.3,\n",
       "  'MarketingComments': 'Complete with 12 projectiles',\n",
       "  'InternalComments': None,\n",
       "  'Photo': None,\n",
       "  'SearchDetails': 'USB rocket launcher (Gray) Complete with 12 projectiles'},\n",
       " {'_id': ObjectId('60b25fd91ab445ac8bcbdf2e'),\n",
       "  'StockItemID': 3,\n",
       "  'StockItemName': 'Office cube periscope (Black)',\n",
       "  'SupplierID': 12,\n",
       "  'ColorID': 3.0,\n",
       "  'UnitPackageID': 7,\n",
       "  'OuterPackageID': 6,\n",
       "  'Brand': None,\n",
       "  'Size': None,\n",
       "  'LeadTimeDays': 14,\n",
       "  'QuantityPerOuter': 10,\n",
       "  'IsChillerStock': False,\n",
       "  'Barcode': None,\n",
       "  'TaxRate': 15.0,\n",
       "  'UnitPrice': 18.5,\n",
       "  'RecommendedRetailPrice': 27.66,\n",
       "  'TypicalWeightPerUnit': 0.25,\n",
       "  'MarketingComments': \"Need to see over your cubicle wall? This is just what's needed.\",\n",
       "  'InternalComments': None,\n",
       "  'Photo': None,\n",
       "  'SearchDetails': \"Office cube periscope (Black) Need to see over your cubicle wall? This is just what's needed.\"},\n",
       " {'_id': ObjectId('60b25fd91ab445ac8bcbdf2f'),\n",
       "  'StockItemID': 4,\n",
       "  'StockItemName': 'USB food flash drive - sushi roll',\n",
       "  'SupplierID': 12,\n",
       "  'ColorID': None,\n",
       "  'UnitPackageID': 7,\n",
       "  'OuterPackageID': 7,\n",
       "  'Brand': None,\n",
       "  'Size': None,\n",
       "  'LeadTimeDays': 14,\n",
       "  'QuantityPerOuter': 1,\n",
       "  'IsChillerStock': False,\n",
       "  'Barcode': None,\n",
       "  'TaxRate': 15.0,\n",
       "  'UnitPrice': 32.0,\n",
       "  'RecommendedRetailPrice': 47.84,\n",
       "  'TypicalWeightPerUnit': 0.05,\n",
       "  'MarketingComments': None,\n",
       "  'InternalComments': None,\n",
       "  'Photo': None,\n",
       "  'SearchDetails': 'USB food flash drive - sushi roll '},\n",
       " {'_id': ObjectId('60b25fd91ab445ac8bcbdf30'),\n",
       "  'StockItemID': 5,\n",
       "  'StockItemName': 'USB food flash drive - hamburger',\n",
       "  'SupplierID': 12,\n",
       "  'ColorID': None,\n",
       "  'UnitPackageID': 7,\n",
       "  'OuterPackageID': 7,\n",
       "  'Brand': None,\n",
       "  'Size': None,\n",
       "  'LeadTimeDays': 14,\n",
       "  'QuantityPerOuter': 1,\n",
       "  'IsChillerStock': False,\n",
       "  'Barcode': None,\n",
       "  'TaxRate': 15.0,\n",
       "  'UnitPrice': 32.0,\n",
       "  'RecommendedRetailPrice': 47.84,\n",
       "  'TypicalWeightPerUnit': 0.05,\n",
       "  'MarketingComments': None,\n",
       "  'InternalComments': None,\n",
       "  'Photo': None,\n",
       "  'SearchDetails': 'USB food flash drive - hamburger '}]"
      ]
     },
     "execution_count": 24,
     "metadata": {},
     "output_type": "execute_result"
    }
   ],
   "source": [
    "list(Warehouse_StockItems.find(limit=5))"
   ]
  },
  {
   "cell_type": "markdown",
   "metadata": {},
   "source": [
    "#### Warehouse_StockItemStockGroups"
   ]
  },
  {
   "cell_type": "code",
   "execution_count": 25,
   "metadata": {},
   "outputs": [
    {
     "data": {
      "text/plain": [
       "<pymongo.results.InsertManyResult at 0x2860d9b3380>"
      ]
     },
     "execution_count": 25,
     "metadata": {},
     "output_type": "execute_result"
    }
   ],
   "source": [
    "data_stockitemstockgroups = pd.read_csv('csv/Project_WWI_Warehouse_StockItemStockGroups.csv').to_dict(orient='records')\n",
    "Warehouse_StockItemStockGroups.insert_many(data_stockitemstockgroups)"
   ]
  },
  {
   "cell_type": "code",
   "execution_count": 26,
   "metadata": {
    "scrolled": true
   },
   "outputs": [
    {
     "data": {
      "text/plain": [
       "[{'_id': ObjectId('60b25fd91ab445ac8bcbe00f'),\n",
       "  'StockItemStockGroupID': 1,\n",
       "  'StockItemID': 1,\n",
       "  'StockGroupID': 6},\n",
       " {'_id': ObjectId('60b25fd91ab445ac8bcbe010'),\n",
       "  'StockItemStockGroupID': 2,\n",
       "  'StockItemID': 1,\n",
       "  'StockGroupID': 1},\n",
       " {'_id': ObjectId('60b25fd91ab445ac8bcbe011'),\n",
       "  'StockItemStockGroupID': 3,\n",
       "  'StockItemID': 1,\n",
       "  'StockGroupID': 7},\n",
       " {'_id': ObjectId('60b25fd91ab445ac8bcbe012'),\n",
       "  'StockItemStockGroupID': 4,\n",
       "  'StockItemID': 2,\n",
       "  'StockGroupID': 6},\n",
       " {'_id': ObjectId('60b25fd91ab445ac8bcbe013'),\n",
       "  'StockItemStockGroupID': 5,\n",
       "  'StockItemID': 2,\n",
       "  'StockGroupID': 1}]"
      ]
     },
     "execution_count": 26,
     "metadata": {},
     "output_type": "execute_result"
    }
   ],
   "source": [
    "list(Warehouse_StockItemStockGroups.find(limit=5))"
   ]
  },
  {
   "cell_type": "markdown",
   "metadata": {},
   "source": [
    "#### Warehouse_StockItemTransactions"
   ]
  },
  {
   "cell_type": "code",
   "execution_count": 27,
   "metadata": {},
   "outputs": [
    {
     "data": {
      "text/plain": [
       "<pymongo.results.InsertManyResult at 0x2861d637e80>"
      ]
     },
     "execution_count": 27,
     "metadata": {},
     "output_type": "execute_result"
    }
   ],
   "source": [
    "data_stockitemtransactions = pd.read_csv('csv/Project_WWI_Warehouse_StockItemTransactions.csv').replace({np.nan:None})\n",
    "data_stockitemtransactions['TransactionOccurredWhen'] = pd.to_datetime(pd.read_csv('csv/Project_WWI_Warehouse_StockItemTransactions.csv')['TransactionOccurredWhen'])\n",
    "data_stockitemtransactions = data_stockitemtransactions.to_dict(orient='records')\n",
    "Warehouse_StockItemTransactions.insert_many(data_stockitemtransactions)"
   ]
  },
  {
   "cell_type": "code",
   "execution_count": 28,
   "metadata": {},
   "outputs": [
    {
     "data": {
      "text/plain": [
       "236667"
      ]
     },
     "execution_count": 28,
     "metadata": {},
     "output_type": "execute_result"
    }
   ],
   "source": [
    "Warehouse_StockItemTransactions.count_documents({})"
   ]
  },
  {
   "cell_type": "code",
   "execution_count": 29,
   "metadata": {},
   "outputs": [
    {
     "data": {
      "text/plain": [
       "[{'_id': ObjectId('60b25fde1ab445ac8bcbe1c9'),\n",
       "  'StockItemTransactionID': 1,\n",
       "  'StockItemID': 67,\n",
       "  'TransactionTypeID': 10,\n",
       "  'CustomerID': 832.0,\n",
       "  'InvoiceID': 1.0,\n",
       "  'SupplierID': None,\n",
       "  'PurchaseOrderID': None,\n",
       "  'TransactionOccurredWhen': datetime.datetime(2013, 1, 1, 12, 0),\n",
       "  'Quantity': -10.0},\n",
       " {'_id': ObjectId('60b25fde1ab445ac8bcbe1ca'),\n",
       "  'StockItemTransactionID': 3,\n",
       "  'StockItemID': 50,\n",
       "  'TransactionTypeID': 10,\n",
       "  'CustomerID': 803.0,\n",
       "  'InvoiceID': 2.0,\n",
       "  'SupplierID': None,\n",
       "  'PurchaseOrderID': None,\n",
       "  'TransactionOccurredWhen': datetime.datetime(2013, 1, 1, 12, 0),\n",
       "  'Quantity': -9.0},\n",
       " {'_id': ObjectId('60b25fde1ab445ac8bcbe1cb'),\n",
       "  'StockItemTransactionID': 4,\n",
       "  'StockItemID': 10,\n",
       "  'TransactionTypeID': 10,\n",
       "  'CustomerID': 803.0,\n",
       "  'InvoiceID': 2.0,\n",
       "  'SupplierID': None,\n",
       "  'PurchaseOrderID': None,\n",
       "  'TransactionOccurredWhen': datetime.datetime(2013, 1, 1, 12, 0),\n",
       "  'Quantity': -9.0},\n",
       " {'_id': ObjectId('60b25fde1ab445ac8bcbe1cc'),\n",
       "  'StockItemTransactionID': 6,\n",
       "  'StockItemID': 114,\n",
       "  'TransactionTypeID': 10,\n",
       "  'CustomerID': 105.0,\n",
       "  'InvoiceID': 3.0,\n",
       "  'SupplierID': None,\n",
       "  'PurchaseOrderID': None,\n",
       "  'TransactionOccurredWhen': datetime.datetime(2013, 1, 1, 12, 0),\n",
       "  'Quantity': -3.0},\n",
       " {'_id': ObjectId('60b25fde1ab445ac8bcbe1cd'),\n",
       "  'StockItemTransactionID': 8,\n",
       "  'StockItemID': 206,\n",
       "  'TransactionTypeID': 10,\n",
       "  'CustomerID': 57.0,\n",
       "  'InvoiceID': 4.0,\n",
       "  'SupplierID': None,\n",
       "  'PurchaseOrderID': None,\n",
       "  'TransactionOccurredWhen': datetime.datetime(2013, 1, 1, 12, 0),\n",
       "  'Quantity': -96.0}]"
      ]
     },
     "execution_count": 29,
     "metadata": {},
     "output_type": "execute_result"
    }
   ],
   "source": [
    "list(Warehouse_StockItemTransactions.find(limit=5))"
   ]
  },
  {
   "cell_type": "markdown",
   "metadata": {},
   "source": [
    "# Dealing with the null values - Removing all fields that are null from the respective collection"
   ]
  },
  {
   "cell_type": "markdown",
   "metadata": {},
   "source": [
    "#### Remove Nulls from Application_People Collection:"
   ]
  },
  {
   "cell_type": "markdown",
   "metadata": {},
   "source": [
    "```\n",
    "db.Application_People.update(\n",
    "  {},\n",
    "  [{ $replaceWith: {\n",
    "    $arrayToObject: {\n",
    "      $filter: {\n",
    "        input: { $objectToArray: \"$$ROOT\" },\n",
    "        as: \"item\",\n",
    "        cond: { $ne: [\"$$item.v\", null] }\n",
    "      }\n",
    "    }\n",
    "  }}],\n",
    "  { multi: true }\n",
    ")\n",
    "\n",
    "```"
   ]
  },
  {
   "cell_type": "markdown",
   "metadata": {},
   "source": [
    "#### Remove Nulls from Warehouse_StockItems Collection:"
   ]
  },
  {
   "cell_type": "markdown",
   "metadata": {},
   "source": [
    "```\n",
    "db.Warehouse_StockItems.update(\n",
    "  {},\n",
    "  [{ $replaceWith: {\n",
    "    $arrayToObject: {\n",
    "      $filter: {\n",
    "        input: { $objectToArray: \"$$ROOT\" },\n",
    "        as: \"item\",\n",
    "        cond: { $ne: [\"$$item.v\", null] }\n",
    "      }\n",
    "    }\n",
    "  }}],\n",
    "  { multi: true }\n",
    ")\n",
    "\n",
    "```"
   ]
  },
  {
   "cell_type": "markdown",
   "metadata": {},
   "source": [
    "#### Remove Nulls from  Warehouse_StockItemTransactions Collection:"
   ]
  },
  {
   "cell_type": "markdown",
   "metadata": {},
   "source": [
    "```\n",
    "db.Warehouse_StockItemTransactions.update(\n",
    "  {},\n",
    "  [{ $replaceWith: {\n",
    "    $arrayToObject: {\n",
    "      $filter: {\n",
    "        input: { $objectToArray: \"$$ROOT\" },\n",
    "        as: \"item\",\n",
    "        cond: { $ne: [\"$$item.v\", null] }\n",
    "      }\n",
    "    }\n",
    "  }}],\n",
    "  { multi: true }\n",
    ")\n",
    "\n",
    "```"
   ]
  },
  {
   "cell_type": "markdown",
   "metadata": {},
   "source": [
    "#### Remove Nulls from  Purchasing_PurchaseOrders Collection:"
   ]
  },
  {
   "cell_type": "markdown",
   "metadata": {},
   "source": [
    "```\n",
    "db.Purchasing_PurchaseOrders.update(\n",
    "  {},\n",
    "  [{ $replaceWith: {\n",
    "    $arrayToObject: {\n",
    "      $filter: {\n",
    "        input: { $objectToArray: \"$$ROOT\" },\n",
    "        as: \"item\",\n",
    "        cond: { $ne: [\"$$item.v\", null] }\n",
    "      }\n",
    "    }\n",
    "  }}],\n",
    "  { multi: true }\n",
    ")\n",
    "``` "
   ]
  },
  {
   "cell_type": "markdown",
   "metadata": {},
   "source": [
    "#### Remove Nulls from Purchasing_Suppliers Collection:"
   ]
  },
  {
   "cell_type": "markdown",
   "metadata": {},
   "source": [
    "```\n",
    "db.Purchasing_Suppliers.update(\n",
    "  {},\n",
    "  [{ $replaceWith: {\n",
    "    $arrayToObject: {\n",
    "      $filter: {\n",
    "        input: { $objectToArray: \"$$ROOT\" },\n",
    "        as: \"item\",\n",
    "        cond: { $ne: [\"$$item.v\", null] }\n",
    "      }\n",
    "    }\n",
    "  }}],\n",
    "  { multi: true }\n",
    ")\n",
    "\n",
    "```"
   ]
  },
  {
   "cell_type": "markdown",
   "metadata": {},
   "source": [
    "#### Remove Nulls from Sales_CustomerTransactions Collection:"
   ]
  },
  {
   "cell_type": "markdown",
   "metadata": {},
   "source": [
    "```\n",
    "db.Sales_CustomerTransactions.update(\n",
    "  {},\n",
    "  [{ $replaceWith: {\n",
    "    $arrayToObject: {\n",
    "      $filter: {\n",
    "        input: { $objectToArray: \"$$ROOT\" },\n",
    "        as: \"item\",\n",
    "        cond: { $ne: [\"$$item.v\", null] }\n",
    "      }\n",
    "    }\n",
    "  }}],\n",
    "  { multi: true }\n",
    ")\n",
    "\n",
    "```"
   ]
  },
  {
   "cell_type": "markdown",
   "metadata": {},
   "source": [
    "#### Remove Nulls from Sales_Customers Collection:"
   ]
  },
  {
   "cell_type": "markdown",
   "metadata": {},
   "source": [
    "```\n",
    "db.Sales_Customers.update(\n",
    "  {},\n",
    "  [{ $replaceWith: {\n",
    "    $arrayToObject: {\n",
    "      $filter: {\n",
    "        input: { $objectToArray: \"$$ROOT\" },\n",
    "        as: \"item\",\n",
    "        cond: { $ne: [\"$$item.v\", null] }\n",
    "      }\n",
    "    }\n",
    "  }}],\n",
    "  { multi: true }\n",
    ")\n",
    "\n",
    "\n",
    "```"
   ]
  },
  {
   "cell_type": "markdown",
   "metadata": {},
   "source": [
    "#### Remove Nulls from Sales_Invoices Collection:"
   ]
  },
  {
   "cell_type": "markdown",
   "metadata": {},
   "source": [
    "```\n",
    "db.Sales_Invoices.update(\n",
    "  {},\n",
    "  [{ $replaceWith: {\n",
    "    $arrayToObject: {\n",
    "      $filter: {\n",
    "        input: { $objectToArray: \"$$ROOT\" },\n",
    "        as: \"item\",\n",
    "        cond: { $ne: [\"$$item.v\", null] }\n",
    "      }\n",
    "    }\n",
    "  }}],\n",
    "  { multi: true }\n",
    ")\n",
    "\n",
    "``` "
   ]
  },
  {
   "cell_type": "markdown",
   "metadata": {},
   "source": [
    "#### Remove Nulls from Sales_Orders Collection:"
   ]
  },
  {
   "cell_type": "markdown",
   "metadata": {},
   "source": [
    "```\n",
    "db.Sales_Orders.update(\n",
    "  {},\n",
    "  [{ $replaceWith: {\n",
    "    $arrayToObject: {\n",
    "      $filter: {\n",
    "        input: { $objectToArray: \"$$ROOT\" },\n",
    "        as: \"item\",\n",
    "        cond: { $ne: [\"$$item.v\", null] }\n",
    "      }\n",
    "    }\n",
    "  }}],\n",
    "  { multi: true }\n",
    ")\n",
    "\n",
    "```"
   ]
  },
  {
   "cell_type": "markdown",
   "metadata": {},
   "source": [
    "# Change Datatypes"
   ]
  },
  {
   "cell_type": "markdown",
   "metadata": {},
   "source": [
    "PaymentMethodID to Double :"
   ]
  },
  {
   "cell_type": "markdown",
   "metadata": {},
   "source": [
    "``` db.Purchasing_SupplierTransactions.find().forEach(function(data) { db.Purchasing_SupplierTransactions.update({_id:data._id},{$set:{PaymentMethodID:parseInt(data.PaymentMethodID)}}); }); ```"
   ]
  },
  {
   "cell_type": "markdown",
   "metadata": {},
   "source": [
    "Quantity to Int :"
   ]
  },
  {
   "cell_type": "markdown",
   "metadata": {},
   "source": [
    "``` db.Sales_OrderLines.find().forEach(function(data) { db.Sales_OrderLines.update({_id:data._id},{$set:{Quantity:NumberInt(data.Quantity)}}); }); ```\n"
   ]
  },
  {
   "cell_type": "markdown",
   "metadata": {},
   "source": [
    "PurchaseOrderLineID to Int:"
   ]
  },
  {
   "cell_type": "markdown",
   "metadata": {},
   "source": [
    "``` db.Purchasing_PurchaseOrderLines.find().forEach(function(data) { db.Purchasing_PurchaseOrderLines.update({_id:data._id},{$set:{PurchaseOrderLineID:NumberInt(data.PurchaseOrderLineID)}}); }); ```"
   ]
  },
  {
   "cell_type": "markdown",
   "metadata": {},
   "source": [
    "ExpectedUnitPricePerOuter to Float:"
   ]
  },
  {
   "cell_type": "markdown",
   "metadata": {},
   "source": [
    "``` db.Purchasing_PurchaseOrderLines.find().forEach(function(data) { db.Purchasing_PurchaseOrderLines.update({_id:data._id},{$set:{ExpectedUnitPricePerOuter:NumberDecimal (data.ExpectedUnitPricePerOuter)}}); }); ```"
   ]
  },
  {
   "cell_type": "markdown",
   "metadata": {},
   "source": [
    "# New Variables"
   ]
  },
  {
   "cell_type": "markdown",
   "metadata": {},
   "source": [
    "#### Sales_InvoiceLines - Adding Revenue (Quantity x Price)"
   ]
  },
  {
   "cell_type": "code",
   "execution_count": 78,
   "metadata": {},
   "outputs": [
    {
     "data": {
      "text/plain": [
       "<pymongo.command_cursor.CommandCursor at 0x2862b91b9a0>"
      ]
     },
     "execution_count": 78,
     "metadata": {},
     "output_type": "execute_result"
    }
   ],
   "source": [
    "db.Sales_InvoiceLines.aggregate( [\n",
    "   {\n",
    "    '$addFields': {\n",
    "       'Revenue': { '$multiply': [ \"$Quantity\", \"$UnitPrice\" ] }\n",
    "     }\n",
    "   },\n",
    "    \n",
    "    {'$out':'Sales_InvoiceLines'}\n",
    "    \n",
    "])"
   ]
  },
  {
   "cell_type": "code",
   "execution_count": 79,
   "metadata": {
    "scrolled": false
   },
   "outputs": [
    {
     "data": {
      "text/plain": [
       "30000"
      ]
     },
     "execution_count": 79,
     "metadata": {},
     "output_type": "execute_result"
    }
   ],
   "source": [
    "db.Sales_InvoiceLines.count_documents({})"
   ]
  },
  {
   "cell_type": "markdown",
   "metadata": {},
   "source": [
    "#### Sales_Customers - Adding coords and GeoIndexing"
   ]
  },
  {
   "cell_type": "code",
   "execution_count": 62,
   "metadata": {},
   "outputs": [],
   "source": [
    "from pymongo import GEO2D"
   ]
  },
  {
   "cell_type": "code",
   "execution_count": 60,
   "metadata": {},
   "outputs": [
    {
     "data": {
      "text/plain": [
       "<pymongo.command_cursor.CommandCursor at 0x1dbe284da90>"
      ]
     },
     "execution_count": 60,
     "metadata": {},
     "output_type": "execute_result"
    }
   ],
   "source": [
    "db.Sales_Customers.aggregate( [\n",
    "   {\n",
    "    \"$addFields\": {\n",
    "        \"coords\": [\"$DeliveryLocationLat\", \"$DeliveryLocationLong\"]\n",
    "    }\n",
    "   },\n",
    "    \n",
    "    {'$out':'Sales_Customers'}\n",
    "    \n",
    "])"
   ]
  },
  {
   "cell_type": "code",
   "execution_count": 63,
   "metadata": {},
   "outputs": [
    {
     "data": {
      "text/plain": [
       "'coords_2d'"
      ]
     },
     "execution_count": 63,
     "metadata": {},
     "output_type": "execute_result"
    }
   ],
   "source": [
    "db.Sales_Customers.create_index([(\"coords\", GEO2D)])"
   ]
  },
  {
   "cell_type": "markdown",
   "metadata": {},
   "source": [
    "# Embeddings"
   ]
  },
  {
   "cell_type": "markdown",
   "metadata": {},
   "source": [
    "#### Sales_Invoice_Lines, Sales_Invoice and Application_People  - Query from Question 5"
   ]
  },
  {
   "cell_type": "markdown",
   "metadata": {},
   "source": [
    "# IMAGEM "
   ]
  },
  {
   "cell_type": "code",
   "execution_count": 4,
   "metadata": {},
   "outputs": [],
   "source": [
    "query_1 = {\n",
    "        \"$lookup\":{\n",
    "           \"from\": \"Application_People\",\n",
    "           \"localField\": \"SalespersonPersonID\",\n",
    "           \"foreignField\": \"PersonID\",\n",
    "           \"as\": \"ApplicationPerson\"\n",
    "        }\n",
    "    }\n",
    "\n",
    "# Both queries 2 are equivalent, although the $merge operator has more functionalities\n",
    "query_2 = { \n",
    "        \"$merge\" : {\n",
    "            \"into\" : \"Collection_Q5_Embedded_Invoice_People\",\n",
    "            \"whenMatched\": \"merge\"\n",
    "        } \n",
    "    }\n",
    "\n",
    "pipeline = [query_1,query_2]"
   ]
  },
  {
   "cell_type": "code",
   "execution_count": 6,
   "metadata": {},
   "outputs": [
    {
     "data": {
      "text/plain": [
       "<pymongo.command_cursor.CommandCursor at 0x1dbe2859bb0>"
      ]
     },
     "execution_count": 6,
     "metadata": {},
     "output_type": "execute_result"
    }
   ],
   "source": [
    "db.Sales_Invoices.aggregate(pipeline)"
   ]
  },
  {
   "cell_type": "code",
   "execution_count": 7,
   "metadata": {},
   "outputs": [],
   "source": [
    "query_1 = {\n",
    "        \"$lookup\":{\n",
    "           \"from\": \"Collection_Q5_Embedded_Invoice_People\",\n",
    "           \"localField\": \"InvoiceID\",\n",
    "           \"foreignField\": \"InvoiceID\",\n",
    "           \"as\": \"Invoice\"\n",
    "        }\n",
    "    }\n",
    "\n",
    "\n",
    "# Both queries 2 are equivalent, although the $merge operator has more functionalities\n",
    "query_2 = { \n",
    "        \"$merge\" : {\n",
    "            \"into\" : \"Collection_Q5_Embedded_InvoiceLines_Invoice_People\",\n",
    "            \"whenMatched\": \"merge\"\n",
    "        } \n",
    "    }\n",
    "\n",
    "pipeline = [query_1,query_2]"
   ]
  },
  {
   "cell_type": "code",
   "execution_count": 8,
   "metadata": {
    "scrolled": true
   },
   "outputs": [
    {
     "data": {
      "text/plain": [
       "<pymongo.command_cursor.CommandCursor at 0x1dbe284dc40>"
      ]
     },
     "execution_count": 8,
     "metadata": {},
     "output_type": "execute_result"
    }
   ],
   "source": [
    "db.Sales_InvoiceLines.aggregate(pipeline)"
   ]
  },
  {
   "cell_type": "code",
   "execution_count": 64,
   "metadata": {},
   "outputs": [],
   "source": [
    "db['Collection_Q5_Embedded_Invoice_People'].drop()\n",
    "# dropping intermediate collection"
   ]
  },
  {
   "cell_type": "markdown",
   "metadata": {},
   "source": [
    "####  Sales_Order, Sales_OrderLines, Warehouse_StockItems - Query from Questions 2 and 3"
   ]
  },
  {
   "cell_type": "markdown",
   "metadata": {},
   "source": [
    "# IMAGEM"
   ]
  },
  {
   "cell_type": "code",
   "execution_count": 10,
   "metadata": {},
   "outputs": [],
   "source": [
    "query_1 = {\n",
    "        \"$lookup\":{\n",
    "           \"from\": \"Sales_Orders\",\n",
    "           \"localField\": \"OrderID\",\n",
    "           \"foreignField\": \"OrderID\",\n",
    "           \"as\": \"Order\"\n",
    "        }\n",
    "    }\n",
    "\n",
    "query_2 = {\n",
    "        \"$lookup\":{\n",
    "           \"from\": \"Warehouse_StockItems\",\n",
    "           \"localField\": \"StockItemID\",\n",
    "           \"foreignField\": \"StockItemID\",\n",
    "           \"as\": \"StockItem\"\n",
    "        }\n",
    "    }\n",
    "\n",
    "\n",
    "# Both queries 2 are equivalent, although the $merge operator has more functionalities\n",
    "query_3 = { \n",
    "        \"$merge\" : {\n",
    "            \"into\" : \"Collection_Q2_Q3_Embedded_OrderLines_Order_StockItems\",\n",
    "            \"whenMatched\": \"merge\"\n",
    "        } \n",
    "    }\n",
    "\n",
    "pipeline = [query_1,query_2, query_3]"
   ]
  },
  {
   "cell_type": "code",
   "execution_count": 11,
   "metadata": {},
   "outputs": [
    {
     "data": {
      "text/plain": [
       "<pymongo.command_cursor.CommandCursor at 0x1dbe284d580>"
      ]
     },
     "execution_count": 11,
     "metadata": {},
     "output_type": "execute_result"
    }
   ],
   "source": [
    "db.Sales_OrderLines.aggregate(pipeline)"
   ]
  },
  {
   "cell_type": "markdown",
   "metadata": {},
   "source": [
    "####  Applications_Countries, Applications_StateProvince, Applications_Cities - Q1"
   ]
  },
  {
   "cell_type": "markdown",
   "metadata": {},
   "source": [
    "# IMAGEM"
   ]
  },
  {
   "cell_type": "code",
   "execution_count": 20,
   "metadata": {},
   "outputs": [],
   "source": [
    "query_1 = {\n",
    "        \"$lookup\":{\n",
    "           \"from\": \"Application_Countries\",\n",
    "           \"localField\": \"CountryID\",\n",
    "           \"foreignField\": \"CountryID\",\n",
    "           \"as\": \"ApplicationCountry\"\n",
    "        }\n",
    "    }\n",
    "\n",
    "# Both queries 2 are equivalent, although the $merge operator has more functionalities\n",
    "query_2 = { \n",
    "        \"$merge\" : {\n",
    "            \"into\" : \"Collection_Q1_StateProvince_Country\",\n",
    "            \"whenMatched\": \"merge\"\n",
    "        } \n",
    "    }\n",
    "\n",
    "pipeline = [query_1,query_2]"
   ]
  },
  {
   "cell_type": "code",
   "execution_count": 21,
   "metadata": {},
   "outputs": [
    {
     "data": {
      "text/plain": [
       "<pymongo.command_cursor.CommandCursor at 0x1dbe283a9d0>"
      ]
     },
     "execution_count": 21,
     "metadata": {},
     "output_type": "execute_result"
    }
   ],
   "source": [
    "db.Application_StateProvinces.aggregate(pipeline)"
   ]
  },
  {
   "cell_type": "code",
   "execution_count": 22,
   "metadata": {},
   "outputs": [],
   "source": [
    "query_1 = {\n",
    "        \"$lookup\":{\n",
    "           \"from\": \"Collection_Q1_StateProvince_Country\",\n",
    "           \"localField\": \"StateProvinceID\",\n",
    "           \"foreignField\": \"StateProvinceID\",\n",
    "           \"as\": \"StateProvince\"\n",
    "        }\n",
    "    }\n",
    "\n",
    "\n",
    "# Both queries 2 are equivalent, although the $merge operator has more functionalities\n",
    "query_2 = { \n",
    "        \"$merge\" : {\n",
    "            \"into\" : \"Collection_Q1_Embedded_City_StateProvince_Country\",\n",
    "            \"whenMatched\": \"merge\"\n",
    "        } \n",
    "    }\n",
    "\n",
    "pipeline = [query_1,query_2]"
   ]
  },
  {
   "cell_type": "code",
   "execution_count": 23,
   "metadata": {},
   "outputs": [
    {
     "data": {
      "text/plain": [
       "<pymongo.command_cursor.CommandCursor at 0x1dbe2855df0>"
      ]
     },
     "execution_count": 23,
     "metadata": {},
     "output_type": "execute_result"
    }
   ],
   "source": [
    "db.Application_Cities.aggregate(pipeline)"
   ]
  },
  {
   "cell_type": "code",
   "execution_count": 65,
   "metadata": {},
   "outputs": [],
   "source": [
    "db['Collection_Q1_StateProvince_Country'].drop()\n",
    "# dropping intermediate collection"
   ]
  },
  {
   "cell_type": "markdown",
   "metadata": {},
   "source": [
    "####  Purchasing_SupplierCategories, Purchasing_Suppliers, Purchasing_SupplierTransactions - Q4"
   ]
  },
  {
   "cell_type": "markdown",
   "metadata": {},
   "source": [
    "# IMAGEM"
   ]
  },
  {
   "cell_type": "code",
   "execution_count": 16,
   "metadata": {},
   "outputs": [],
   "source": [
    "query_1 = {\n",
    "        \"$lookup\":{\n",
    "           \"from\": \"Purchasing_SupplierCategories\",\n",
    "           \"localField\": \"SupplierCategoryID\",\n",
    "           \"foreignField\": \"SupplierCategoryID\",\n",
    "           \"as\": \"SupplierCategory\"\n",
    "        }\n",
    "    }\n",
    "\n",
    "# Both queries 2 are equivalent, although the $merge operator has more functionalities\n",
    "query_2 = { \n",
    "        \"$merge\" : {\n",
    "            \"into\" : \"Collection_Q4_Supplier_SupplierCategory\",\n",
    "            \"whenMatched\": \"merge\"\n",
    "        } \n",
    "    }\n",
    "\n",
    "pipeline = [query_1,query_2]"
   ]
  },
  {
   "cell_type": "code",
   "execution_count": 17,
   "metadata": {},
   "outputs": [
    {
     "data": {
      "text/plain": [
       "<pymongo.command_cursor.CommandCursor at 0x1dbe41e9a90>"
      ]
     },
     "execution_count": 17,
     "metadata": {},
     "output_type": "execute_result"
    }
   ],
   "source": [
    "db.Purchasing_Suppliers.aggregate(pipeline)"
   ]
  },
  {
   "cell_type": "code",
   "execution_count": 24,
   "metadata": {},
   "outputs": [],
   "source": [
    "query_1 = {\n",
    "        \"$lookup\":{\n",
    "           \"from\": \"Collection_Q4_Supplier_SupplierCategory\",\n",
    "           \"localField\": \"SupplierID\",\n",
    "           \"foreignField\": \"SupplierID\",\n",
    "           \"as\": \"Supplier\"\n",
    "        }\n",
    "    }\n",
    "\n",
    "\n",
    "# Both queries 2 are equivalent, although the $merge operator has more functionalities\n",
    "query_2 = { \n",
    "        \"$merge\" : {\n",
    "            \"into\" : \"Collection_Q4_Embedded_SupplierTransaction_Supplier_SupplierCategory\",\n",
    "            \"whenMatched\": \"merge\"\n",
    "        } \n",
    "    }\n",
    "\n",
    "pipeline = [query_1,query_2]"
   ]
  },
  {
   "cell_type": "code",
   "execution_count": 25,
   "metadata": {},
   "outputs": [
    {
     "data": {
      "text/plain": [
       "<pymongo.command_cursor.CommandCursor at 0x1dbe302cf40>"
      ]
     },
     "execution_count": 25,
     "metadata": {},
     "output_type": "execute_result"
    }
   ],
   "source": [
    "db.Purchasing_SupplierTransactions.aggregate(pipeline)"
   ]
  },
  {
   "cell_type": "code",
   "execution_count": 66,
   "metadata": {},
   "outputs": [],
   "source": [
    "db['Collection_Q4_Supplier_SupplierCategory'].drop()\n",
    "# dropping intermediate collection"
   ]
  }
 ],
 "metadata": {
  "kernelspec": {
   "display_name": "Python 3",
   "language": "python",
   "name": "python3"
  },
  "language_info": {
   "codemirror_mode": {
    "name": "ipython",
    "version": 3
   },
   "file_extension": ".py",
   "mimetype": "text/x-python",
   "name": "python",
   "nbconvert_exporter": "python",
   "pygments_lexer": "ipython3",
   "version": "3.8.5"
  }
 },
 "nbformat": 4,
 "nbformat_minor": 4
}
