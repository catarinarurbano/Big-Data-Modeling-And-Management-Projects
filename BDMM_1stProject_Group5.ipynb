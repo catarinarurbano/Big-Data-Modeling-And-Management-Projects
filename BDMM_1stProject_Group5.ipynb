{
 "cells": [
  {
   "cell_type": "markdown",
   "metadata": {},
   "source": [
    "# Group 5: BDMM 1st Project\n",
    "\n",
    "#### Made by:\n",
    "* Catarina Candeias (m20200656@novaims.unl.pt)\n",
    "* Catarina Urbano (m20200607@novaims.unl.pt)\n",
    "* Margarida Pereira (m20201038@novaims.unl.pt) \n",
    "* Rita Ferreira (m20200661@novaims.unl.pt)\n",
    "* Tiago Gonçalves (m20201053@novaims.unl.pt) "
   ]
  },
  {
   "cell_type": "markdown",
   "metadata": {},
   "source": [
    "# Big Data Modeling and Management Assigment\n",
    "\n",
    "\n",
    "## 🍺 The Beer project  🍺 \n",
    "\n",
    "As it was shown in classes, graph databases are a natural way of navegating distinct types of data. For this first project we will be taking a graph database to analyse beer and breweries!   \n",
    "\n",
    "_For reference the dataset used for this project has been extracted from [kaggle](https://www.kaggle.com/ehallmar/beers-breweries-and-beer-reviews), released by Evan Hallmark. Even though the author does not present metada on the origin of the data it is probably a collection of open data from places like [beeradvocate](https://www.beeradvocate.com/)_ \n",
    "\n",
    "#### Problem description\n",
    "\n",
    "Explore the database via python neo4j connector and/or the graphical tool in the NEO4J webpage. Answer the questions. Submit the results by following the instructions\n",
    "\n",
    "#### Connection details to the neo4j database\n",
    "```\n",
    "Host: rhea.isegi.unl.pt:7474  \n",
    "Username: neo4j  \n",
    "Password: F3cfcrnvBev57KZ8mcMk78L9wHgJVZuJ \n",
    "Connect URL : bolt://rhea.isegi.unl.pt:7687\n",
    "```\n",
    "\n",
    "\n",
    "#### Questions\n",
    "\n",
    "\n",
    "0. __Example Question__ _How many beers does the database contain?_\n",
    "1. How many different countries exist in the database?\n",
    "1. Most reviews:  \n",
    "    1. Which `Beer` has the most reviews?  \n",
    "    1. Which `Brewery` has the most reviews for its beers?\n",
    "    1. Which `Country` has the most reviews for its beers? \n",
    "1. Find the user/users that have the most shared reviews (reviews of the same beers) with the user CTJman?\n",
    "1. Which Portuguese brewery has the most beers?\n",
    "1. From those beers (the ones returned from the previous question), which has the most reviews?\n",
    "1. On average how many different beer styles does each brewery produce?\n",
    "1. Which brewery produces the strongest beers according to ABV?\n",
    "1. If I typically enjoy a beer due to its aroma and appearance, which beer style should I try?\n",
    "1. Using Graph Algorithms answer **two** of the following questions:\n",
    "    1. Which two Countries are most similiar when it comes to their **top 10** most produced Beer styles?\n",
    "    1. Which beer has the most similar reviews as the beer `Super Bock Stout`?\n",
    "    1. Which user is the most influential when it comes to reviews made?\n",
    "    1. Which beer styles are more central when it comes the amount of beers? \\\n",
    "    Note: In case of a tie for the top entity, in terms of metrics outputed from the algorithms, **simply output the first.**\n",
    "1. If you had to pick 3 beers to recommend using only this database, which would you pick and why?\n",
    "\n",
    "\n",
    " Questions 8 to 10 are somewhat open, which means we'll also be evaluating the reasoning behind your answer. So there aren't necessarily bad results there are only wrong criteria, explanations or execution. \n",
    " \n",
    "##### Groups  \n",
    "\n",
    "Groups should have 4 to 5 people  \n",
    "You should register your group on moodle. An email will be going out to everyone with the credentials for the database to use when storing the results.\n",
    "\n",
    "\n",
    "##### Submission      \n",
    "\n",
    "Submission of the query results to be done to the group's redis database (explained on the first class, credentials sent via email).  \n",
    "The following format is expected:\n",
    "```\n",
    "    >>> redis.set(\"0\", \"358873\")\n",
    "```\n",
    "\n",
    "This result should be the anwser of the group to question 0\n",
    "\n",
    "The code used to produce the results and respective explations should be uploaded to moodle. They should have a clear reference to the group, either on the file name or on the document itself. Preferably one Jupyter notebook per group.\n",
    "\n",
    "Delivery date: Until the **midnight of May 2nd**\n",
    "\n",
    "##### Evaluation   \n",
    "\n",
    "This will be 20% of the final grade.   \n",
    "Each solution will be evaluated on 2 components: correctness of results and simplicity of the solution.  \n",
    "All code will go through plagiarism automated checks. Groups with the same code will undergo investigation.\n",
    "\n",
    "**Note:**\n",
    "Remember the Neo4j is a shared database and when creating in-memory graphs please use your group's prefix.  \n",
    "Ex. Instead of `my-graph` as the name of your graph please use `group0-my-graph`."
   ]
  },
  {
   "cell_type": "code",
   "execution_count": 1,
   "metadata": {},
   "outputs": [
    {
     "data": {
      "text/plain": [
       "[{'count(*)': 9647598}]"
      ]
     },
     "execution_count": 1,
     "metadata": {},
     "output_type": "execute_result"
    }
   ],
   "source": [
    "import py2neo\n",
    "from pprint import pprint\n",
    "username=\"neo4j\"\n",
    "password=\"F3cfcrnvBev57KZ8mcMk78L9wHgJVZuJ\"\n",
    "host=\"rhea.isegi.unl.pt\"\n",
    "port=\"7474\"\n",
    "\n",
    "secure_graph = py2neo.Graph(f\"http://{username}:{password}@{host}:{port}\")\n",
    "secure_graph.run(\"MATCH () RETURN count(*)\").data()"
   ]
  },
  {
   "cell_type": "markdown",
   "metadata": {},
   "source": [
    "### 1) How many different countries exist in the database?"
   ]
  },
  {
   "cell_type": "code",
   "execution_count": 2,
   "metadata": {},
   "outputs": [
    {
     "data": {
      "text/plain": [
       "[{'Number_of_Countries': 200}]"
      ]
     },
     "execution_count": 2,
     "metadata": {},
     "output_type": "execute_result"
    }
   ],
   "source": [
    "secure_graph.run(\"\"\"\n",
    "                 MATCH (c:Country) \n",
    "                 RETURN count(distinct c) as Number_of_Countries \n",
    "\"\"\").data()"
   ]
  },
  {
   "cell_type": "markdown",
   "metadata": {},
   "source": [
    "### 2) Most reviews:\n",
    "#### - a) Which Beer has the most reviews?"
   ]
  },
  {
   "cell_type": "code",
   "execution_count": 3,
   "metadata": {},
   "outputs": [
    {
     "data": {
      "text/plain": [
       "[{'Beer': 'IPA', 'Number_of_reviews': 31387}]"
      ]
     },
     "execution_count": 3,
     "metadata": {},
     "output_type": "execute_result"
    }
   ],
   "source": [
    "secure_graph.run(\"\"\"\n",
    "                 MATCH (r:Reviews)-[:ABOUT]-(b:Beers) \n",
    "                 return b.name as Beer, count(*) as Number_of_reviews\n",
    "                 order by Number_of_reviews DESC\n",
    "                 LIMIT 1\n",
    "\"\"\").data()"
   ]
  },
  {
   "cell_type": "markdown",
   "metadata": {},
   "source": [
    "#### - b) Which Brewery has the most reviews for its beers?"
   ]
  },
  {
   "cell_type": "code",
   "execution_count": 4,
   "metadata": {},
   "outputs": [
    {
     "data": {
      "text/plain": [
       "[{'Brewery': 'Sierra Nevada Brewing Co.', 'Number_of_reviews': 175161}]"
      ]
     },
     "execution_count": 4,
     "metadata": {},
     "output_type": "execute_result"
    }
   ],
   "source": [
    "secure_graph.run(\"\"\"\n",
    "                 MATCH (r:Reviews)-[]-(b:Beers)-[]-(br:Breweries)\n",
    "                 return br.name as Brewery,count(r) as Number_of_reviews\n",
    "                 order by Number_of_reviews DESC\n",
    "                 LIMIT 1\n",
    "\"\"\").data()"
   ]
  },
  {
   "cell_type": "markdown",
   "metadata": {},
   "source": [
    "#### - c) Which Country has the most reviews for its beers?"
   ]
  },
  {
   "cell_type": "code",
   "execution_count": 5,
   "metadata": {},
   "outputs": [
    {
     "data": {
      "text/plain": [
       "[{'Country': 'US', 'Number_of_reviews': 7524410}]"
      ]
     },
     "execution_count": 5,
     "metadata": {},
     "output_type": "execute_result"
    }
   ],
   "source": [
    "secure_graph.run(\"\"\"\n",
    "                 MATCH (r:Reviews)-[a:ABOUT]-(b:Beers)-[]-(br:Breweries)-[]-(c:Country)\n",
    "                 return c.country_digit as Country, count(a) as Number_of_reviews\n",
    "                 order by Number_of_reviews DESC\n",
    "                 LIMIT 1\n",
    "\"\"\").data()"
   ]
  },
  {
   "cell_type": "markdown",
   "metadata": {},
   "source": [
    "### 3) Find the user/users that have the most shared reviews (reviews of the same beers) with the user CTJman?"
   ]
  },
  {
   "cell_type": "code",
   "execution_count": 6,
   "metadata": {},
   "outputs": [
    {
     "data": {
      "text/plain": [
       "[{'User': 'acurtis', 'Number_of_shared_reviews': 1428}]"
      ]
     },
     "execution_count": 6,
     "metadata": {},
     "output_type": "execute_result"
    }
   ],
   "source": [
    "secure_graph.run(\"\"\"\n",
    "                 MATCH (u1:Username{user_name: 'CTJman'})-[]-(r1:Reviews)-[:ABOUT]-(b:Beers)-[:ABOUT]-(r2:Reviews)-[]-(u2:Username)\n",
    "                 \n",
    "                 where u1.user_name <> u2.user_name // preventing it from counting common reviews from the same user\n",
    "                 \n",
    "                 return u2.user_name as User, count(b) as Number_of_shared_reviews\n",
    "                 order by Number_of_shared_reviews DESC\n",
    "                 LIMIT 1\n",
    "\"\"\").data()"
   ]
  },
  {
   "cell_type": "markdown",
   "metadata": {},
   "source": [
    "### 4) Which Portuguese brewery has the most beers?"
   ]
  },
  {
   "cell_type": "code",
   "execution_count": 7,
   "metadata": {},
   "outputs": [
    {
     "data": {
      "text/plain": [
       "[{'Brewery': 'Dois Corvos Cervejeira', 'Number_of_beers': 40}]"
      ]
     },
     "execution_count": 7,
     "metadata": {},
     "output_type": "execute_result"
    }
   ],
   "source": [
    "secure_graph.run(\"\"\"\n",
    "                 MATCH (b:Beers)-[:BREWED_AT]-(br:Breweries)-[:FROM]-(c:Country{country_digit:'PT'})\n",
    "                 return br.name as Brewery,count(b) as Number_of_beers\n",
    "                 order by Number_of_beers DESC\n",
    "                 LIMIT 1\n",
    "\"\"\").data()"
   ]
  },
  {
   "cell_type": "markdown",
   "metadata": {},
   "source": [
    "### 5) From those beers (the ones returned from the previous question), which has the most reviews?"
   ]
  },
  {
   "cell_type": "code",
   "execution_count": 8,
   "metadata": {},
   "outputs": [
    {
     "data": {
      "text/plain": [
       "[{'Beer': 'Finisterra', 'Number_of_reviews': 10}]"
      ]
     },
     "execution_count": 8,
     "metadata": {},
     "output_type": "execute_result"
    }
   ],
   "source": [
    "#  The beers returned in the previous question are the ones from 'Dois Corvos Cervejeira':\n",
    "secure_graph.run(\"\"\"\n",
    "                 MATCH (br:Breweries{name:'Dois Corvos Cervejeira'})-[:BREWED_AT]-(b:Beers)-[]-(r:Reviews)\n",
    "                 return b.name as Beer, count(r) as Number_of_reviews\n",
    "                 order by Number_of_reviews DESC\n",
    "                 LIMIT 1\n",
    "\"\"\").data()"
   ]
  },
  {
   "cell_type": "markdown",
   "metadata": {},
   "source": [
    "### 6) On average how many different beer styles does each brewery produce?"
   ]
  },
  {
   "cell_type": "code",
   "execution_count": 9,
   "metadata": {},
   "outputs": [
    {
     "data": {
      "text/plain": [
       "[{'Average_number_of_beer_styles': 10.669977315921736}]"
      ]
     },
     "execution_count": 9,
     "metadata": {},
     "output_type": "execute_result"
    }
   ],
   "source": [
    "\n",
    "secure_graph.run(\"\"\"\n",
    "                 MATCH (br:Breweries) - [] - (b:Beers)  - [:OF_TYPE] - (s:Style)\n",
    "                 with br.name as name, count(DISTINCT s) as Number_of_beer_styles \n",
    "                 \n",
    "                 // DISTINCT so it doesn't count the same style more than once\n",
    "                 \n",
    "                 \n",
    "                 return avg(Number_of_beer_styles) as Average_number_of_beer_styles\n",
    "\"\"\").data()"
   ]
  },
  {
   "cell_type": "markdown",
   "metadata": {},
   "source": [
    "### 7) Which brewery produces the strongest beers according to ABV?"
   ]
  },
  {
   "cell_type": "code",
   "execution_count": 10,
   "metadata": {},
   "outputs": [
    {
     "data": {
      "text/plain": [
       "[{'Brewery': '1648 Brewing Company Ltd', 'Average_ABV': 25.57777777777778}]"
      ]
     },
     "execution_count": 10,
     "metadata": {},
     "output_type": "execute_result"
    }
   ],
   "source": [
    "secure_graph.run(\"\"\"\n",
    "                 MATCH (br:Breweries) - [] - (b:Beers)\n",
    "                 where b.abv <> \"Unknown\"    // Avoiding NaN Values\n",
    "                 with br.name as Brewery, avg(tofloat(b.abv)) as Average_ABV // Getting the average ABV for each Brewery\n",
    "                 return Brewery, Average_ABV\n",
    "                 order by Average_ABV DESC\n",
    "                 limit 1\n",
    "                  \n",
    "\"\"\").data()"
   ]
  },
  {
   "cell_type": "markdown",
   "metadata": {},
   "source": [
    "### 8) If I typically enjoy a beer due to its aroma and appearance, which beer style should I try?"
   ]
  },
  {
   "cell_type": "code",
   "execution_count": 11,
   "metadata": {},
   "outputs": [
    {
     "data": {
      "text/plain": [
       "[{'Beer_style': 'New England IPA',\n",
       "  'Avg_look': 4.383595613210904,\n",
       "  'Avg_smell': 4.41361476476119,\n",
       "  'Avg_of_look_and_smell': 4.398605188986047}]"
      ]
     },
     "execution_count": 11,
     "metadata": {},
     "output_type": "execute_result"
    }
   ],
   "source": [
    "# Appearence can be evaluated by the look\n",
    "# Aroma can be evaluated by smell \n",
    "# both these variables range between 1-5\n",
    "# to get the best beer style according to these 2 parameters: we'll get the style that has the highest average value \n",
    "# between these 2 factors\n",
    "\n",
    "secure_graph.run(\"\"\"\n",
    "                 MATCH (r:Reviews)-[:ABOUT]- (b:Beers)  - [:OF_TYPE] - (s:Style)\n",
    "                 where r.look <> 'Unknown' and r.smell <> 'Unknown' // excluding nans\n",
    "                 with s.name as Beer_style, avg(tofloat(r.look)) as Avg_look, avg(tofloat(r.smell)) as Avg_smell\n",
    "                 return Beer_style, Avg_look, Avg_smell, (Avg_look+Avg_smell)/2 as Avg_of_look_and_smell\n",
    "                 order by Avg_of_look_and_smell DESC\n",
    "                 limit 1 \n",
    "                 \n",
    "\"\"\").data()"
   ]
  },
  {
   "cell_type": "markdown",
   "metadata": {},
   "source": [
    "### 9) Using Graph Algorithms answer the questions:\n",
    "#### - a) Which two Countries are most similiar when it comes to their **top 10** most produced Beer styles?"
   ]
  },
  {
   "cell_type": "code",
   "execution_count": 7,
   "metadata": {},
   "outputs": [
    {
     "data": {
      "text/plain": [
       "[{'nodeQuery': 'MATCH (c:Country) return id(c) as id UNION ALL MATCH (s:Style) return id(s) as id',\n",
       "  'relationshipQuery': 'MATCH (c:Country)-[]-(br:Breweries)-[]-(b:Beers)-[ot:OF_TYPE]->(s:Style)\\n         WITH c as Country, s as Style, count(*) as times order by times desc\\n         WITH Country, collect(Style)[..10] as top_10, count(distinct Style) as nr_styles \\n         WHERE nr_styles >= 10\\n         UNWIND top_10 as c_top_10 \\n\\n         \\n         return id(Country) as source, id(c_top_10) as target',\n",
       "  'graphName': 'test-graph-group5_9a',\n",
       "  'nodeCount': 313,\n",
       "  'relationshipCount': 1010,\n",
       "  'createMillis': 1569}]"
      ]
     },
     "execution_count": 7,
     "metadata": {},
     "output_type": "execute_result"
    }
   ],
   "source": [
    "# We firstly create a graph with countries linked to their top 10 most produced beer styles\n",
    "\n",
    "\n",
    "secure_graph.run(f\"\"\"                                    \n",
    "    CALL gds.graph.create.cypher(\n",
    "        'test-graph-group5_9a',\n",
    "        'MATCH (c:Country) return id(c) as id UNION ALL MATCH (s:Style) return id(s) as id',\n",
    "        \n",
    "        'MATCH (c:Country)-[]-(br:Breweries)-[]-(b:Beers)-[]->(s:Style)\n",
    "         WITH c as Country, s as Style, count(*) as times order by times desc\n",
    "         WITH Country, collect(Style)[..10] as top_10, count(distinct Style) as nr_styles \n",
    "         // counting how many distinct styles each country produces and collecting the top 10 styles\n",
    "         \n",
    "         WHERE nr_styles >= 10 \n",
    "         // Filtering countries that produce less than 10 styles out, to avoid similarity values of 1.0 \n",
    "         // because 2 countries produce only 1 style (the same between both) \n",
    "         \n",
    "         \n",
    "         UNWIND top_10 as c_top_10 \n",
    "\n",
    "         \n",
    "         return id(Country) as source, id(c_top_10) as target'\n",
    "    )\n",
    "\"\"\").data()"
   ]
  },
  {
   "cell_type": "code",
   "execution_count": 13,
   "metadata": {},
   "outputs": [
    {
     "data": {
      "text/plain": [
       "[{'Country1': 'US', 'Country2': 'CA', 'similarity': 0.6666666666666666}]"
      ]
     },
     "execution_count": 13,
     "metadata": {},
     "output_type": "execute_result"
    }
   ],
   "source": [
    "#Then we calculate the similarity using nodeSimilarity and get the country digits for the 2 most similar countries\n",
    "\n",
    "secure_graph.run(\"\"\"  \n",
    "    CALL gds.nodeSimilarity.stream('test-graph-group5_9a')\n",
    "    YIELD node1, node2, similarity\n",
    "    RETURN gds.util.asNode(node1).country_digit AS Country1, gds.util.asNode(node2).country_digit AS Country2, similarity\n",
    "    ORDER BY similarity DESCENDING\n",
    "    LIMIT 1\n",
    "\"\"\").data()\n",
    "\n",
    "#there were multiple pairs of countries with the same similarity value, but we're only returning 1 as requested"
   ]
  },
  {
   "cell_type": "markdown",
   "metadata": {},
   "source": [
    "#### - d) Which beer styles are more central when it comes the amount of beers?"
   ]
  },
  {
   "cell_type": "code",
   "execution_count": null,
   "metadata": {},
   "outputs": [],
   "source": [
    "# We start by creating a graph with Styles linked to Beers\n",
    "\n",
    "secure_graph.run(\"\"\"                                    \n",
    "    CALL gds.graph.create(\n",
    "        'test-graph-group5_9d',\n",
    "        [\n",
    "            'Style',\n",
    "            'Beers'\n",
    "        ],\n",
    "        {\n",
    "            OF_TYPE: {\n",
    "                orientation: 'Natural'\n",
    "            }\n",
    "        }\n",
    "    )\n",
    "\"\"\").data()"
   ]
  },
  {
   "cell_type": "code",
   "execution_count": 15,
   "metadata": {},
   "outputs": [
    {
     "data": {
      "text/plain": [
       "[{'Style': 'American IPA', 'score': 5702.417230224609},\n",
       " {'Style': 'American Pale Ale (APA)', 'score': 2825.5490661621093},\n",
       " {'Style': 'American Imperial IPA', 'score': 2338.292272949219},\n",
       " {'Style': 'Belgian Saison', 'score': 2316.486224365234},\n",
       " {'Style': 'American Wild Ale', 'score': 1654.0356842041017},\n",
       " {'Style': 'American Imperial Stout', 'score': 1425.5628540039063},\n",
       " {'Style': 'American Porter', 'score': 1296.538104248047},\n",
       " {'Style': 'American Amber / Red Ale', 'score': 1242.990283203125},\n",
       " {'Style': 'American Stout', 'score': 1160.7561294555665},\n",
       " {'Style': 'Fruit and Field Beer', 'score': 985.5782577514648}]"
      ]
     },
     "execution_count": 15,
     "metadata": {},
     "output_type": "execute_result"
    }
   ],
   "source": [
    "#Then we use pageRank to calculate the most central styles\n",
    "\n",
    "secure_graph.run(\n",
    "    \"\"\"\n",
    "        CALL gds.pageRank.stream('test-graph-group5_9d') YIELD nodeId, score\n",
    "        RETURN gds.util.asNode(nodeId).name AS Style, score\n",
    "        ORDER BY score DESC LIMIT 10\n",
    "    \"\"\"\n",
    ").data()\n",
    "\n",
    "#We return the top 10 since no specific number was provided"
   ]
  },
  {
   "cell_type": "markdown",
   "metadata": {},
   "source": [
    "### 10) If you had to pick 3 beers to recommend using only this database, which would you pick and why?"
   ]
  },
  {
   "cell_type": "markdown",
   "metadata": {},
   "source": [
    "We would recommend the beers with the highest avg overall score and that have at least 20 reviews (to ensure trustworthyness)\n",
    "\n",
    "Additionally, the availability should be year-round so one could drink the beer whenever he/she prefers and 'Not retired' - so it can still be bought\n",
    "\n",
    "After applying the previous filtering, and since overall score takes into account score, taste, feel, smell and look we're recommending the 3 beers with the best overall average since they have the best characteristics according to the reviews\n"
   ]
  },
  {
   "cell_type": "code",
   "execution_count": 16,
   "metadata": {},
   "outputs": [
    {
     "data": {
      "text/plain": [
       "[{'Beer': 'Zombie Dust', 'Avg_overall': 4.527575619740728},\n",
       " {'Beer': 'Juice Jr.', 'Avg_overall': 4.392857142857142},\n",
       " {'Beer': 'Tropicália', 'Avg_overall': 4.374169435215941}]"
      ]
     },
     "execution_count": 16,
     "metadata": {},
     "output_type": "execute_result"
    }
   ],
   "source": [
    "secure_graph.run(\"\"\"\n",
    "                 MATCH (r:Reviews)-[:ABOUT]- (b:Beers{availability:'Year-round',retired:'f'})-[:BREWED_AT]-(br:Breweries)-[:FROM]-(c:Country)\n",
    "                 where r.overall <> 'Unknown' \n",
    "                 with b.name as Beer, avg(tofloat(r.overall)) as Avg_overall, count(r) as Number_of_reviews\n",
    "                 where Number_of_reviews >=20\n",
    "                 return Beer, Avg_overall\n",
    "                 order by Avg_overall DESC\n",
    "                 limit 3 \n",
    "                 \n",
    "\"\"\").data()"
   ]
  }
 ],
 "metadata": {
  "kernelspec": {
   "display_name": "Python 3",
   "language": "python",
   "name": "python3"
  },
  "language_info": {
   "codemirror_mode": {
    "name": "ipython",
    "version": 3
   },
   "file_extension": ".py",
   "mimetype": "text/x-python",
   "name": "python",
   "nbconvert_exporter": "python",
   "pygments_lexer": "ipython3",
   "version": "3.8.5"
  }
 },
 "nbformat": 4,
 "nbformat_minor": 4
}
